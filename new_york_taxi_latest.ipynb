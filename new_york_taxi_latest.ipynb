{
  "nbformat": 4,
  "nbformat_minor": 0,
  "metadata": {
    "colab": {
      "name": "new york taxi latest.ipynb",
      "provenance": [],
      "collapsed_sections": [],
      "machine_shape": "hm",
      "include_colab_link": true
    },
    "kernelspec": {
      "name": "python3",
      "display_name": "Python 3"
    },
    "accelerator": "GPU"
  },
  "cells": [
    {
      "cell_type": "markdown",
      "metadata": {
        "id": "view-in-github",
        "colab_type": "text"
      },
      "source": [
        "<a href=\"https://colab.research.google.com/github/FaisalMoosani/Data-analysis-and-python-projects/blob/master/new_york_taxi_latest.ipynb\" target=\"_parent\"><img src=\"https://colab.research.google.com/assets/colab-badge.svg\" alt=\"Open In Colab\"/></a>"
      ]
    },
    {
      "cell_type": "markdown",
      "metadata": {
        "id": "3W2XO6DwEyWr",
        "colab_type": "text"
      },
      "source": [
        "# PROBLEM STATEMENT: FIND OUT THE PICKUP DENSITY GIVEN THE TIME AND REGION"
      ]
    },
    {
      "cell_type": "code",
      "metadata": {
        "id": "DkCCxKH1EtXT",
        "colab_type": "code",
        "colab": {}
      },
      "source": [
        "import dask.dataframe as dd     #for importing data frame \n",
        "import pandas as pd             #for importing data frame\n",
        "import folium                   #for open street map\n",
        "import datetime                 #Convert to unix time\n",
        "import time                     #Convert to unix time\n",
        "import numpy as np              #Do aritmetic operations on arrays\n",
        "import seaborn as sns           #Plots\n",
        "import matplotlib.pylab as plt  #Plots\n",
        "import matplotlib               #Plots\n",
        "from matplotlib import rcParams #Size of plots  \n",
        "import gpxpy.geo                #Get the haversine distance\n",
        "from sklearn.cluster import MiniBatchKMeans, KMeans #Clustering\n",
        "import math\n",
        "import pickle\n",
        "import xgboost as xgb\n",
        "from sklearn.ensemble import RandomForestRegressor\n",
        "from sklearn.metrics import mean_squared_error\n",
        "from sklearn.metrics import mean_absolute_error\n",
        "import scipy"
      ],
      "execution_count": 0,
      "outputs": []
    },
    {
      "cell_type": "code",
      "metadata": {
        "id": "icnTej54MX75",
        "colab_type": "code",
        "outputId": "749fa7d9-e857-4fd9-f2e4-723151c3a6e1",
        "colab": {
          "base_uri": "https://localhost:8080/",
          "height": 187
        }
      },
      "source": [
        "pip install gpxpy"
      ],
      "execution_count": 2,
      "outputs": [
        {
          "output_type": "stream",
          "text": [
            "Collecting gpxpy\n",
            "\u001b[?25l  Downloading https://files.pythonhosted.org/packages/6e/d3/ce52e67771929de455e76655365a4935a2f369f76dfb0d70c20a308ec463/gpxpy-1.3.5.tar.gz (105kB)\n",
            "\r\u001b[K     |███                             | 10kB 19.5MB/s eta 0:00:01\r\u001b[K     |██████▏                         | 20kB 1.7MB/s eta 0:00:01\r\u001b[K     |█████████▎                      | 30kB 2.5MB/s eta 0:00:01\r\u001b[K     |████████████▍                   | 40kB 1.7MB/s eta 0:00:01\r\u001b[K     |███████████████▌                | 51kB 2.1MB/s eta 0:00:01\r\u001b[K     |██████████████████▋             | 61kB 2.5MB/s eta 0:00:01\r\u001b[K     |█████████████████████▊          | 71kB 2.9MB/s eta 0:00:01\r\u001b[K     |████████████████████████▉       | 81kB 3.3MB/s eta 0:00:01\r\u001b[K     |████████████████████████████    | 92kB 3.7MB/s eta 0:00:01\r\u001b[K     |███████████████████████████████ | 102kB 2.8MB/s eta 0:00:01\r\u001b[K     |████████████████████████████████| 112kB 2.8MB/s \n",
            "\u001b[?25hBuilding wheels for collected packages: gpxpy\n",
            "  Building wheel for gpxpy (setup.py) ... \u001b[?25l\u001b[?25hdone\n",
            "  Created wheel for gpxpy: filename=gpxpy-1.3.5-cp36-none-any.whl size=40315 sha256=581990b55d3ea57cd85af0f195c4e8e9b566dde8b6c375fc89a76718f1f167f0\n",
            "  Stored in directory: /root/.cache/pip/wheels/d2/f0/5e/b8e85979e66efec3eaa0e47fbc5274db99fd1a07befd1b2aa4\n",
            "Successfully built gpxpy\n",
            "Installing collected packages: gpxpy\n",
            "Successfully installed gpxpy-1.3.5\n"
          ],
          "name": "stdout"
        }
      ]
    },
    {
      "cell_type": "code",
      "metadata": {
        "id": "J4tujrx2Dr4X",
        "colab_type": "code",
        "colab": {}
      },
      "source": [
        "# Code to read csv file into Colaboratory:\n",
        "!pip install -U -q PyDrive\n",
        "from pydrive.auth import GoogleAuth\n",
        "from pydrive.drive import GoogleDrive\n",
        "from google.colab import auth\n",
        "from oauth2client.client import GoogleCredentials\n",
        "# Authenticate and create the PyDrive client.\n",
        "auth.authenticate_user()\n",
        "gauth = GoogleAuth()\n",
        "gauth.credentials = GoogleCredentials.get_application_default()\n",
        "drive = GoogleDrive(gauth)"
      ],
      "execution_count": 0,
      "outputs": []
    },
    {
      "cell_type": "code",
      "metadata": {
        "id": "4R04ioV0D9Oq",
        "colab_type": "code",
        "outputId": "3e865d85-cdd0-4673-9e34-6719f97d2232",
        "colab": {
          "base_uri": "https://localhost:8080/",
          "height": 34
        }
      },
      "source": [
        "link = 'https://drive.google.com/open?id=19pxY-1nlolOS0bQLDRYRjAW5Vuanm-CD'\n",
        "fluff, id = link.split('=')\n",
        "print (id)\n",
        "downloaded = drive.CreateFile({'id':id}) \n",
        "downloaded.GetContentFile('Copy of yellow_tripdata_2015-01.csv')  \n",
        "month = dd.read_csv('Copy of yellow_tripdata_2015-01.csv')\n",
        "# Dataset is now stored in a dask Dataframe"
      ],
      "execution_count": 7,
      "outputs": [
        {
          "output_type": "stream",
          "text": [
            "19pxY-1nlolOS0bQLDRYRjAW5Vuanm-CD\n"
          ],
          "name": "stdout"
        }
      ]
    },
    {
      "cell_type": "code",
      "metadata": {
        "id": "OQ4W5WMNETu4",
        "colab_type": "code",
        "outputId": "762e8d51-4912-4f07-aa8b-076e7dd31acb",
        "colab": {
          "base_uri": "https://localhost:8080/",
          "height": 136
        }
      },
      "source": [
        "print(month.columns)"
      ],
      "execution_count": 9,
      "outputs": [
        {
          "output_type": "stream",
          "text": [
            "Index(['VendorID', 'tpep_pickup_datetime', 'tpep_dropoff_datetime',\n",
            "       'passenger_count', 'trip_distance', 'pickup_longitude',\n",
            "       'pickup_latitude', 'RateCodeID', 'store_and_fwd_flag',\n",
            "       'dropoff_longitude', 'dropoff_latitude', 'payment_type', 'fare_amount',\n",
            "       'extra', 'mta_tax', 'tip_amount', 'tolls_amount',\n",
            "       'improvement_surcharge', 'total_amount'],\n",
            "      dtype='object')\n"
          ],
          "name": "stdout"
        }
      ]
    },
    {
      "cell_type": "code",
      "metadata": {
        "id": "RB4DNk7FEeia",
        "colab_type": "code",
        "outputId": "f8125ff2-9dff-4eb4-d901-b62ca8e8df7e",
        "colab": {
          "base_uri": "https://localhost:8080/",
          "height": 224
        }
      },
      "source": [
        "month.head(5)"
      ],
      "execution_count": 10,
      "outputs": [
        {
          "output_type": "execute_result",
          "data": {
            "text/html": [
              "<div>\n",
              "<style scoped>\n",
              "    .dataframe tbody tr th:only-of-type {\n",
              "        vertical-align: middle;\n",
              "    }\n",
              "\n",
              "    .dataframe tbody tr th {\n",
              "        vertical-align: top;\n",
              "    }\n",
              "\n",
              "    .dataframe thead th {\n",
              "        text-align: right;\n",
              "    }\n",
              "</style>\n",
              "<table border=\"1\" class=\"dataframe\">\n",
              "  <thead>\n",
              "    <tr style=\"text-align: right;\">\n",
              "      <th></th>\n",
              "      <th>VendorID</th>\n",
              "      <th>tpep_pickup_datetime</th>\n",
              "      <th>tpep_dropoff_datetime</th>\n",
              "      <th>passenger_count</th>\n",
              "      <th>trip_distance</th>\n",
              "      <th>pickup_longitude</th>\n",
              "      <th>pickup_latitude</th>\n",
              "      <th>RateCodeID</th>\n",
              "      <th>store_and_fwd_flag</th>\n",
              "      <th>dropoff_longitude</th>\n",
              "      <th>dropoff_latitude</th>\n",
              "      <th>payment_type</th>\n",
              "      <th>fare_amount</th>\n",
              "      <th>extra</th>\n",
              "      <th>mta_tax</th>\n",
              "      <th>tip_amount</th>\n",
              "      <th>tolls_amount</th>\n",
              "      <th>improvement_surcharge</th>\n",
              "      <th>total_amount</th>\n",
              "    </tr>\n",
              "  </thead>\n",
              "  <tbody>\n",
              "    <tr>\n",
              "      <th>0</th>\n",
              "      <td>2</td>\n",
              "      <td>2015-01-15 19:05:39</td>\n",
              "      <td>2015-01-15 19:23:42</td>\n",
              "      <td>1</td>\n",
              "      <td>1.59</td>\n",
              "      <td>-73.993896</td>\n",
              "      <td>40.750111</td>\n",
              "      <td>1</td>\n",
              "      <td>N</td>\n",
              "      <td>-73.974785</td>\n",
              "      <td>40.750618</td>\n",
              "      <td>1</td>\n",
              "      <td>12.0</td>\n",
              "      <td>1.0</td>\n",
              "      <td>0.5</td>\n",
              "      <td>3.25</td>\n",
              "      <td>0.0</td>\n",
              "      <td>0.3</td>\n",
              "      <td>17.05</td>\n",
              "    </tr>\n",
              "    <tr>\n",
              "      <th>1</th>\n",
              "      <td>1</td>\n",
              "      <td>2015-01-10 20:33:38</td>\n",
              "      <td>2015-01-10 20:53:28</td>\n",
              "      <td>1</td>\n",
              "      <td>3.30</td>\n",
              "      <td>-74.001648</td>\n",
              "      <td>40.724243</td>\n",
              "      <td>1</td>\n",
              "      <td>N</td>\n",
              "      <td>-73.994415</td>\n",
              "      <td>40.759109</td>\n",
              "      <td>1</td>\n",
              "      <td>14.5</td>\n",
              "      <td>0.5</td>\n",
              "      <td>0.5</td>\n",
              "      <td>2.00</td>\n",
              "      <td>0.0</td>\n",
              "      <td>0.3</td>\n",
              "      <td>17.80</td>\n",
              "    </tr>\n",
              "    <tr>\n",
              "      <th>2</th>\n",
              "      <td>1</td>\n",
              "      <td>2015-01-10 20:33:38</td>\n",
              "      <td>2015-01-10 20:43:41</td>\n",
              "      <td>1</td>\n",
              "      <td>1.80</td>\n",
              "      <td>-73.963341</td>\n",
              "      <td>40.802788</td>\n",
              "      <td>1</td>\n",
              "      <td>N</td>\n",
              "      <td>-73.951820</td>\n",
              "      <td>40.824413</td>\n",
              "      <td>2</td>\n",
              "      <td>9.5</td>\n",
              "      <td>0.5</td>\n",
              "      <td>0.5</td>\n",
              "      <td>0.00</td>\n",
              "      <td>0.0</td>\n",
              "      <td>0.3</td>\n",
              "      <td>10.80</td>\n",
              "    </tr>\n",
              "    <tr>\n",
              "      <th>3</th>\n",
              "      <td>1</td>\n",
              "      <td>2015-01-10 20:33:39</td>\n",
              "      <td>2015-01-10 20:35:31</td>\n",
              "      <td>1</td>\n",
              "      <td>0.50</td>\n",
              "      <td>-74.009087</td>\n",
              "      <td>40.713818</td>\n",
              "      <td>1</td>\n",
              "      <td>N</td>\n",
              "      <td>-74.004326</td>\n",
              "      <td>40.719986</td>\n",
              "      <td>2</td>\n",
              "      <td>3.5</td>\n",
              "      <td>0.5</td>\n",
              "      <td>0.5</td>\n",
              "      <td>0.00</td>\n",
              "      <td>0.0</td>\n",
              "      <td>0.3</td>\n",
              "      <td>4.80</td>\n",
              "    </tr>\n",
              "    <tr>\n",
              "      <th>4</th>\n",
              "      <td>1</td>\n",
              "      <td>2015-01-10 20:33:39</td>\n",
              "      <td>2015-01-10 20:52:58</td>\n",
              "      <td>1</td>\n",
              "      <td>3.00</td>\n",
              "      <td>-73.971176</td>\n",
              "      <td>40.762428</td>\n",
              "      <td>1</td>\n",
              "      <td>N</td>\n",
              "      <td>-74.004181</td>\n",
              "      <td>40.742653</td>\n",
              "      <td>2</td>\n",
              "      <td>15.0</td>\n",
              "      <td>0.5</td>\n",
              "      <td>0.5</td>\n",
              "      <td>0.00</td>\n",
              "      <td>0.0</td>\n",
              "      <td>0.3</td>\n",
              "      <td>16.30</td>\n",
              "    </tr>\n",
              "  </tbody>\n",
              "</table>\n",
              "</div>"
            ],
            "text/plain": [
              "   VendorID tpep_pickup_datetime  ... improvement_surcharge  total_amount\n",
              "0         2  2015-01-15 19:05:39  ...                   0.3         17.05\n",
              "1         1  2015-01-10 20:33:38  ...                   0.3         17.80\n",
              "2         1  2015-01-10 20:33:38  ...                   0.3         10.80\n",
              "3         1  2015-01-10 20:33:39  ...                   0.3          4.80\n",
              "4         1  2015-01-10 20:33:39  ...                   0.3         16.30\n",
              "\n",
              "[5 rows x 19 columns]"
            ]
          },
          "metadata": {
            "tags": []
          },
          "execution_count": 10
        }
      ]
    },
    {
      "cell_type": "markdown",
      "metadata": {
        "id": "RXJixlFGFX3u",
        "colab_type": "text"
      },
      "source": [
        "# 1: Exploratory Data Analysis"
      ]
    },
    {
      "cell_type": "markdown",
      "metadata": {
        "id": "-yNNFT6dFiQO",
        "colab_type": "text"
      },
      "source": [
        "##1.1 Work on latitude and longitude of New York *city*"
      ]
    },
    {
      "cell_type": "markdown",
      "metadata": {
        "id": "1o5WRmgFF58v",
        "colab_type": "text"
      },
      "source": [
        "new york city has latitude and longitude range as follows\n",
        "\n",
        "\n",
        "1.   min_lat  = 40.5774\n",
        "2.   max_lat  = 40.9176\n",
        "3.   min_long =  74.15\n",
        "4.   max_long = 73.7004\n",
        "\n",
        "we will observe points beyond above values"
      ]
    },
    {
      "cell_type": "code",
      "metadata": {
        "id": "rnuBCP-YFHr2",
        "colab_type": "code",
        "outputId": "9c051f3c-520e-4938-f8c7-1cb838d2d8bd",
        "colab": {
          "base_uri": "https://localhost:8080/",
          "height": 809
        }
      },
      "source": [
        "outlier_locations = month[((month.pickup_longitude <= -74.15) | (month.pickup_latitude <= 40.5774) | \\\n",
        "                   (month.pickup_longitude >= -73.7004) | (month.pickup_latitude >= 40.9176))]\n",
        "map_osm = folium.Map(location = [40.734695, -73.990372])\n",
        "\n",
        "sample_location = outlier_locations.head(10000)\n",
        "for i,j in sample_location.iterrows():\n",
        "    if int(j['pickup_latitude'] != 0):\n",
        "        folium.Marker(list((j['pickup_latitude'], j['pickup_longitude']))).add_to(map_osm)\n",
        "  \n",
        "map_osm"
      ],
      "execution_count": 11,
      "outputs": [
        {
          "output_type": "stream",
          "text": [
            "/usr/local/lib/python3.6/dist-packages/dask/dataframe/core.py:4553: UserWarning: Insufficient elements for `head`. 10000 elements requested, only 8003 elements available. Try passing larger `npartitions` to `head`.\n",
            "  warnings.warn(msg.format(n, len(r)))\n"
          ],
          "name": "stderr"
        },
        {
          "output_type": "execute_result",
          "data": {
            "text/html": [
              "<div style=\"width:100%;\"><div style=\"position:relative;width:100%;height:0;padding-bottom:60%;\"><iframe src=\"data:text/html;charset=utf-8;base64,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\" style=\"position:absolute;width:100%;height:100%;left:0;top:0;border:none !important;\" allowfullscreen webkitallowfullscreen mozallowfullscreen></iframe></div></div>"
            ],
            "text/plain": [
              "<folium.folium.Map at 0x7fe20eaedf28>"
            ]
          },
          "metadata": {
            "tags": []
          },
          "execution_count": 11
        }
      ]
    },
    {
      "cell_type": "markdown",
      "metadata": {
        "id": "tpPorSxWI3GG",
        "colab_type": "text"
      },
      "source": [
        "### As you can see above that there are some points just outside the boundary but many of them point to either South america, Mexico or Canada\n"
      ]
    },
    {
      "cell_type": "markdown",
      "metadata": {
        "id": "MhaByAr5JEC2",
        "colab_type": "text"
      },
      "source": [
        " ## 1.2: Making new data frame with pickup times, trip times and speed"
      ]
    },
    {
      "cell_type": "code",
      "metadata": {
        "id": "mwWAtzyrJC_2",
        "colab_type": "code",
        "colab": {}
      },
      "source": [
        "def convert_to_unix(s):\n",
        "    return time.mktime(datetime.datetime.strptime(s, \"%Y-%m-%d %H:%M:%S\").timetuple())"
      ],
      "execution_count": 0,
      "outputs": []
    },
    {
      "cell_type": "code",
      "metadata": {
        "id": "8TWcgXg4IxFs",
        "colab_type": "code",
        "colab": {}
      },
      "source": [
        "def return_with_times(month):\n",
        "    duration = month[['tpep_pickup_datetime', 'tpep_dropoff_datetime']].compute()\n",
        "    #pickup and drop_off to unix time\n",
        "    duration_pickup = [convert_to_unix(x) for x in duration['tpep_pickup_datetime'].values]\n",
        "    duration_drop   = [convert_to_unix(x) for x in duration['tpep_dropoff_datetime'].values]\n",
        "    #calculate duration of trips\n",
        "    durations = (np.array(duration_drop) - np.array(duration_pickup))/float(60)\n",
        "    \n",
        "    # making new data frame with new modded varaibles.\n",
        "    new_frame = month[['VendorID','payment_type','passenger_count','trip_distance','pickup_longitude','pickup_latitude','dropoff_longitude','dropoff_latitude','RateCodeID','store_and_fwd_flag','total_amount','tolls_amount']].compute()\n",
        "    new_frame['trip_times']   = durations\n",
        "    new_frame['pickup_times'] = duration_pickup\n",
        "    new_frame['speed']        = 60*(new_frame['trip_distance']/new_frame['trip_times'])\n",
        "    \n",
        "    return new_frame"
      ],
      "execution_count": 0,
      "outputs": []
    },
    {
      "cell_type": "code",
      "metadata": {
        "id": "Y0kt-IMVagJs",
        "colab_type": "code",
        "outputId": "3eb35aea-9aff-4f80-f472-b30e4df6a658",
        "colab": {
          "base_uri": "https://localhost:8080/",
          "height": 136
        }
      },
      "source": [
        "month.columns"
      ],
      "execution_count": 14,
      "outputs": [
        {
          "output_type": "execute_result",
          "data": {
            "text/plain": [
              "Index(['VendorID', 'tpep_pickup_datetime', 'tpep_dropoff_datetime',\n",
              "       'passenger_count', 'trip_distance', 'pickup_longitude',\n",
              "       'pickup_latitude', 'RateCodeID', 'store_and_fwd_flag',\n",
              "       'dropoff_longitude', 'dropoff_latitude', 'payment_type', 'fare_amount',\n",
              "       'extra', 'mta_tax', 'tip_amount', 'tolls_amount',\n",
              "       'improvement_surcharge', 'total_amount'],\n",
              "      dtype='object')"
            ]
          },
          "metadata": {
            "tags": []
          },
          "execution_count": 14
        }
      ]
    },
    {
      "cell_type": "code",
      "metadata": {
        "id": "A7wTpXAdKEmo",
        "colab_type": "code",
        "colab": {}
      },
      "source": [
        "new_frame = return_with_times(month)"
      ],
      "execution_count": 0,
      "outputs": []
    },
    {
      "cell_type": "code",
      "metadata": {
        "id": "qE3LvoPRVfab",
        "colab_type": "code",
        "colab": {
          "base_uri": "https://localhost:8080/",
          "height": 102
        },
        "outputId": "47190949-33ad-4115-a944-7df0c5a8b790"
      },
      "source": [
        "new_frame.columns"
      ],
      "execution_count": 16,
      "outputs": [
        {
          "output_type": "execute_result",
          "data": {
            "text/plain": [
              "Index(['VendorID', 'payment_type', 'passenger_count', 'trip_distance',\n",
              "       'pickup_longitude', 'pickup_latitude', 'dropoff_longitude',\n",
              "       'dropoff_latitude', 'RateCodeID', 'store_and_fwd_flag', 'total_amount',\n",
              "       'tolls_amount', 'trip_times', 'pickup_times', 'speed'],\n",
              "      dtype='object')"
            ]
          },
          "metadata": {
            "tags": []
          },
          "execution_count": 16
        }
      ]
    },
    {
      "cell_type": "markdown",
      "metadata": {
        "id": "fpifhw_xSYWI",
        "colab_type": "text"
      },
      "source": [
        "## 1.3: Inspecting number of pickups by each vendors by vendor id"
      ]
    },
    {
      "cell_type": "code",
      "metadata": {
        "id": "a9-EWCboSTkH",
        "colab_type": "code",
        "colab": {
          "base_uri": "https://localhost:8080/",
          "height": 68
        },
        "outputId": "27f87e86-7539-49b0-9347-f5c032364fc2"
      },
      "source": [
        "# get unique vendors\n",
        "\n",
        "vendor_unique = new_frame.VendorID.unique()\n",
        "vendors = []\n",
        "#get the number of trip for each vendor\n",
        "vendors.append(new_frame[new_frame['VendorID'] == 1].shape[0])\n",
        "vendors.append(new_frame[new_frame['VendorID'] == 2].shape[0])\n",
        "print('unique vendors: ', vendor_unique)\n",
        "print('Vendor 1 count: ', vendors[0])\n",
        "print('Vendor 2 count: ', vendors[1])"
      ],
      "execution_count": 17,
      "outputs": [
        {
          "output_type": "stream",
          "text": [
            "unique vendors:  [2 1]\n",
            "Vendor 1 count:  6101189\n",
            "Vendor 2 count:  6647797\n"
          ],
          "name": "stdout"
        }
      ]
    },
    {
      "cell_type": "code",
      "metadata": {
        "id": "_7X92N2yST6c",
        "colab_type": "code",
        "colab": {
          "base_uri": "https://localhost:8080/",
          "height": 323
        },
        "outputId": "295149ff-510d-4a02-c8fc-8d05271ebf1f"
      },
      "source": [
        "sns.set_style(\"whitegrid\")\n",
        "\n",
        "fig, ax = plt.subplots()\n",
        "fig.set_size_inches(12, 5)\n",
        "\n",
        "ax = sns.barplot(x = ['Vendor 1', 'Vendor 2'] , y = np.array(vendors))\n",
        "ax.set(ylabel='Pickups')\n",
        "plt.show()"
      ],
      "execution_count": 18,
      "outputs": [
        {
          "output_type": "display_data",
          "data": {
            "image/png": "[encoded data removed]",
            "text/plain": [
              "<Figure size 864x360 with 1 Axes>"
            ]
          },
          "metadata": {
            "tags": []
          }
        }
      ]
    },
    {
      "cell_type": "code",
      "metadata": {
        "id": "qxBi7TbESUfU",
        "colab_type": "code",
        "colab": {
          "base_uri": "https://localhost:8080/",
          "height": 34
        },
        "outputId": "6655a24f-d2b2-40ae-8adf-b4ec6f5946c4"
      },
      "source": [
        "print (\"Vendor 1:{} % Vendor 2 :{} % \".format(100*float(vendors[1])/sum(vendors),100*float(vendors[0])/sum(vendors)))"
      ],
      "execution_count": 19,
      "outputs": [
        {
          "output_type": "stream",
          "text": [
            "Vendor 1:52.14373127400093 % Vendor 2 :47.85626872599907 % \n"
          ],
          "name": "stdout"
        }
      ]
    },
    {
      "cell_type": "markdown",
      "metadata": {
        "id": "q7wOlZNYdSHK",
        "colab_type": "text"
      },
      "source": [
        "### Above analysis shows that both vendors share almost same number of pickups in JAN month"
      ]
    },
    {
      "cell_type": "markdown",
      "metadata": {
        "id": "VcU_tI5Iddxd",
        "colab_type": "text"
      },
      "source": [
        "## 1.4: Inspecting Passenger count variable"
      ]
    },
    {
      "cell_type": "code",
      "metadata": {
        "id": "2WDyXktXdbsD",
        "colab_type": "code",
        "colab": {
          "base_uri": "https://localhost:8080/",
          "height": 51
        },
        "outputId": "901f9580-9600-44bd-952d-1400df9f3dc1"
      },
      "source": [
        "passenger_count = []\n",
        "passenger_unique = set(new_frame['passenger_count'].values)\n",
        "\n",
        "for i in passenger_unique:\n",
        "  passenger_count.append(new_frame[new_frame['passenger_count'] == i].shape[0])\n",
        "  \n",
        "pass_count_pickups = [x for _,x in sorted(zip(passenger_unique,passenger_count))]\n",
        "pass_count = [int(y) for y,_ in sorted(zip(passenger_unique,passenger_count))]\n",
        "print (pass_count)\n",
        "print (pass_count_pickups)"
      ],
      "execution_count": 20,
      "outputs": [
        {
          "output_type": "stream",
          "text": [
            "[0, 1, 2, 3, 4, 5, 6, 7, 8, 9]\n",
            "[6565, 8993870, 1814594, 528486, 253228, 697645, 454568, 9, 10, 11]\n"
          ],
          "name": "stdout"
        }
      ]
    },
    {
      "cell_type": "code",
      "metadata": {
        "id": "aWEQbrDgdcYD",
        "colab_type": "code",
        "colab": {
          "base_uri": "https://localhost:8080/",
          "height": 345
        },
        "outputId": "20ac9957-62c2-4ed3-a116-209414716bb0"
      },
      "source": [
        "sns.set_style(\"whitegrid\")\n",
        "\n",
        "fig, ax = plt.subplots()\n",
        "fig.set_size_inches(12, 5)\n",
        "\n",
        "ax = sns.barplot(x = np.array(pass_count) , y = np.array(pass_count_pickups))\n",
        "ax.set(ylabel='Pickups',xlabel = 'number of passengers')\n",
        "plt.show()"
      ],
      "execution_count": 21,
      "outputs": [
        {
          "output_type": "display_data",
          "data": {
            "image/png": "[encoded data removed]",
            "text/plain": [
              "<Figure size 864x360 with 1 Axes>"
            ]
          },
          "metadata": {
            "tags": []
          }
        }
      ]
    },
    {
      "cell_type": "code",
      "metadata": {
        "id": "YAd6D980enH8",
        "colab_type": "code",
        "colab": {
          "base_uri": "https://localhost:8080/",
          "height": 187
        },
        "outputId": "5384bd12-b45f-4baf-a813-53b40d2d7bf6"
      },
      "source": [
        "for a,b in zip(pass_count,pass_count_pickups):\n",
        "    print (\"Pickups for passenger count {} : {}% of total pickups\".format(int(a),round(float(b)*100/sum(pass_count_pickups),4)))"
      ],
      "execution_count": 22,
      "outputs": [
        {
          "output_type": "stream",
          "text": [
            "Pickups for passenger count 0 : 0.0515% of total pickups\n",
            "Pickups for passenger count 1 : 70.5458% of total pickups\n",
            "Pickups for passenger count 2 : 14.2332% of total pickups\n",
            "Pickups for passenger count 3 : 4.1453% of total pickups\n",
            "Pickups for passenger count 4 : 1.9863% of total pickups\n",
            "Pickups for passenger count 5 : 5.4722% of total pickups\n",
            "Pickups for passenger count 6 : 3.5655% of total pickups\n",
            "Pickups for passenger count 7 : 0.0001% of total pickups\n",
            "Pickups for passenger count 8 : 0.0001% of total pickups\n",
            "Pickups for passenger count 9 : 0.0001% of total pickups\n"
          ],
          "name": "stdout"
        }
      ]
    },
    {
      "cell_type": "markdown",
      "metadata": {
        "id": "aNc78dszlUdv",
        "colab_type": "text"
      },
      "source": [
        "### Inference from the passenger count:\n",
        "1. Majority of the trips seem to have 1 and 2 passengers.\n",
        "2. 0 passenger count maybe an error or some kind of goods delivery\n",
        "3. According to the TLC regulations 5 is the maximum number of passengers allowed in a yellow taxi\n",
        "  - Good amount of trips have more than 5 passengers - almost 45k of them\n",
        "  - Toddlers and children below age 7 are allowed to sit on laps\n",
        "  - Maybe the drivers take into account the toddlers too(But still 7 ,8 and 9 are ridiculous numbers for passenger counts)"
      ]
    },
    {
      "cell_type": "markdown",
      "metadata": {
        "id": "B_J4K4YfmKPN",
        "colab_type": "text"
      },
      "source": [
        "## 1.5: Analyzing Rate Code feature"
      ]
    },
    {
      "cell_type": "code",
      "metadata": {
        "id": "ib-ORh6pen2b",
        "colab_type": "code",
        "colab": {}
      },
      "source": [
        "## Rate Code:\n",
        "#1. Standard rate\n",
        "#2. JFK\n",
        "#3. Newark\n",
        "#4. Nassau or Westchester\n",
        "#5. Negotiated fare\n",
        "#6. Group ride\n",
        "# unique rate codes\n",
        "rate_code_unique = set(new_frame['RateCodeID'].values)"
      ],
      "execution_count": 0,
      "outputs": []
    },
    {
      "cell_type": "code",
      "metadata": {
        "id": "FWuvx3tInOO1",
        "colab_type": "code",
        "colab": {}
      },
      "source": [
        "##Unique rate codes\n",
        "rate_codes_uniq = set(new_frame['RateCodeID'].values)\n",
        "rate_count = []\n",
        "for i in rate_codes_uniq:\n",
        "    rate_count.append(new_frame[new_frame['RateCodeID'] == i].shape[0])\n",
        "#sort the pickups based on the rate codes\n",
        "rate_code_pickups = [x for _,x in sorted(zip(rate_codes_uniq,rate_count))]\n",
        "rate_code = [int(y) for y,_ in sorted(zip(rate_codes_uniq,rate_count))]\n",
        "Trips = ['Standard rates','JFK trips','Newark trips','Nassau/Westchester trips','Negotiated fare','Group rides','unknownrate code']\n"
      ],
      "execution_count": 0,
      "outputs": []
    },
    {
      "cell_type": "code",
      "metadata": {
        "id": "VqaFnOegnOx2",
        "colab_type": "code",
        "colab": {
          "base_uri": "https://localhost:8080/",
          "height": 345
        },
        "outputId": "5442f503-fa12-4765-81b5-0319dc91be04"
      },
      "source": [
        "sns.set_style(\"whitegrid\")\n",
        "\n",
        "fig, ax = plt.subplots()\n",
        "fig.set_size_inches(12, 5)\n",
        "\n",
        "ax = sns.barplot(x = np.array(Trips) , y = np.array(rate_code_pickups))\n",
        "ax.set(ylabel='Pickups',xlabel = 'Rate Code IDs')\n",
        "plt.show()"
      ],
      "execution_count": 25,
      "outputs": [
        {
          "output_type": "display_data",
          "data": {
            "image/png": "[encoded data removed]",
            "text/plain": [
              "<Figure size 864x360 with 1 Axes>"
            ]
          },
          "metadata": {
            "tags": []
          }
        }
      ]
    },
    {
      "cell_type": "code",
      "metadata": {
        "id": "U_QFC16xoI_h",
        "colab_type": "code",
        "colab": {
          "base_uri": "https://localhost:8080/",
          "height": 136
        },
        "outputId": "62af41fb-8410-47a1-aa80-813b21d14622"
      },
      "source": [
        "for a,b in zip(Trips,rate_code_pickups):\n",
        "    print (\"Pickups for/with {} accounts {}% of total pickups\".format(a,round(float(b)*100/sum(rate_code_pickups),4)))"
      ],
      "execution_count": 26,
      "outputs": [
        {
          "output_type": "stream",
          "text": [
            "Pickups for/with Standard rates accounts 97.7717% of total pickups\n",
            "Pickups for/with JFK trips accounts 1.7627% of total pickups\n",
            "Pickups for/with Newark trips accounts 0.1388% of total pickups\n",
            "Pickups for/with Nassau/Westchester trips accounts 0.0324% of total pickups\n",
            "Pickups for/with Negotiated fare accounts 0.2894% of total pickups\n",
            "Pickups for/with Group rides accounts 0.0011% of total pickups\n",
            "Pickups for/with unknownrate code accounts 0.004% of total pickups\n"
          ],
          "name": "stdout"
        }
      ]
    },
    {
      "cell_type": "markdown",
      "metadata": {
        "id": "L53ZWJXVoPMd",
        "colab_type": "text"
      },
      "source": [
        "## Inference from Rate code:\n",
        "\n",
        "1. Standard rate - 12.4 Million trips\n",
        "2. JFK - 224.2k trips\n",
        "3. Newark - 17.7k trips\n",
        "4. Nassau or Westchester - 4.1k trips\n",
        "5. Negotiated fare - 36.8k trips\n",
        "6. Group ride - 134 trips\n",
        "7. rate code 99(mistake??) - 507 trips"
      ]
    },
    {
      "cell_type": "markdown",
      "metadata": {
        "id": "RVl7vwwtp4PT",
        "colab_type": "text"
      },
      "source": [
        "## 1.6: Analyzing Store and forward flag\n",
        "\n",
        "1.   List item\n",
        "2.   List item\n",
        "\n"
      ]
    },
    {
      "cell_type": "markdown",
      "metadata": {
        "id": "IA795dCetV5E",
        "colab_type": "text"
      },
      "source": [
        "Store_and_fwd_flag\n",
        "This flag indicates whether the trip record was held in vehicle memory before sending to the vendor,<br\\> aka “store and forward,” because the vehicle did not have a connection to the server.\n",
        "\t\tY= store and forward trip\n",
        "\t\tN= not a store and forward trip"
      ]
    },
    {
      "cell_type": "code",
      "metadata": {
        "id": "nQb2_KpQpx8I",
        "colab_type": "code",
        "colab": {
          "base_uri": "https://localhost:8080/",
          "height": 51
        },
        "outputId": "85ad7914-57f0-43a6-f36e-4b24d81a73bd"
      },
      "source": [
        "SWflag_uniq = set(new_frame['store_and_fwd_flag'].values)\n",
        "SWflag_count = []\n",
        "for i in SWflag_uniq :\n",
        "    SWflag_count.append(new_frame[new_frame['store_and_fwd_flag'] == i].shape[0])\n",
        "print (SWflag_count)\n",
        "SWflag_uniq = list(SWflag_uniq)\n",
        "print (SWflag_uniq)"
      ],
      "execution_count": 27,
      "outputs": [
        {
          "output_type": "stream",
          "text": [
            "[12633953, 115033]\n",
            "['N', 'Y']\n"
          ],
          "name": "stdout"
        }
      ]
    },
    {
      "cell_type": "code",
      "metadata": {
        "id": "Ut880-MepycT",
        "colab_type": "code",
        "colab": {
          "base_uri": "https://localhost:8080/",
          "height": 51
        },
        "outputId": "428f57bc-52df-4397-b1ff-b7c4df4f3b08"
      },
      "source": [
        "for a,b in zip(SWflag_uniq,SWflag_count):\n",
        "    print (\"Pickups for/with store and forward = {} accounts {}% of total pickups\".format(a,round(float(b)*100/sum(SWflag_count),4)))"
      ],
      "execution_count": 28,
      "outputs": [
        {
          "output_type": "stream",
          "text": [
            "Pickups for/with store and forward = N accounts 99.0977% of total pickups\n",
            "Pickups for/with store and forward = Y accounts 0.9023% of total pickups\n"
          ],
          "name": "stdout"
        }
      ]
    },
    {
      "cell_type": "code",
      "metadata": {
        "id": "W6cJzdwKpy_C",
        "colab_type": "code",
        "colab": {
          "base_uri": "https://localhost:8080/",
          "height": 346
        },
        "outputId": "165eeb51-aa2c-44f2-c85f-ce82d174c1b3"
      },
      "source": [
        "sns.set_style(\"whitegrid\")\n",
        "\n",
        "fig, ax = plt.subplots()\n",
        "fig.set_size_inches(12, 5)\n",
        "\n",
        "ax = sns.barplot(x = np.array(SWflag_uniq) , y = np.array(SWflag_count))\n",
        "ax.set(ylabel='Pickups',xlabel = 'store_and_fwd_flag')\n",
        "plt.show()"
      ],
      "execution_count": 29,
      "outputs": [
        {
          "output_type": "display_data",
          "data": {
            "image/png": "[encoded data removed]",
            "text/plain": [
              "<Figure size 864x360 with 1 Axes>"
            ]
          },
          "metadata": {
            "tags": []
          }
        }
      ]
    },
    {
      "cell_type": "markdown",
      "metadata": {
        "id": "kwnibyp-Bhi8",
        "colab_type": "text"
      },
      "source": [
        "## 1.6: Analyzing Payment types"
      ]
    },
    {
      "cell_type": "markdown",
      "metadata": {
        "id": "-rmAypGZBtaQ",
        "colab_type": "text"
      },
      "source": [
        "Payment types are:\n",
        "1. Credit card\n",
        "2. Cash\n",
        "3. No charge.\n",
        "4. Disput\n",
        "5. Unknown\n",
        "6. Voided Trip"
      ]
    },
    {
      "cell_type": "code",
      "metadata": {
        "id": "F7TJj5-vBpjQ",
        "colab_type": "code",
        "colab": {
          "base_uri": "https://localhost:8080/",
          "height": 51
        },
        "outputId": "9a8649a7-f887-4f84-d243-475077f26461"
      },
      "source": [
        "payment_uniq = set(new_frame['payment_type'].values)\n",
        "payment_count = []\n",
        "for i in payment_uniq :\n",
        "    payment_count.append(new_frame[new_frame['payment_type'] == i].shape[0])\n",
        "print (payment_count)\n",
        "payment_uniq = list(payment_uniq)\n",
        "print (payment_uniq)"
      ],
      "execution_count": 30,
      "outputs": [
        {
          "output_type": "stream",
          "text": [
            "[7881388, 4816992, 38632, 11972, 2]\n",
            "[1, 2, 3, 4, 5]\n"
          ],
          "name": "stdout"
        }
      ]
    },
    {
      "cell_type": "code",
      "metadata": {
        "id": "aYv5HH6RBqIX",
        "colab_type": "code",
        "colab": {
          "base_uri": "https://localhost:8080/",
          "height": 337
        },
        "outputId": "af9be60b-01ed-417a-f5d1-23287b26276f"
      },
      "source": [
        "pay_pickups = [x for _,x in sorted(zip(payment_uniq,payment_count))]\n",
        "pay = [int(y) for y,_ in sorted(zip(payment_uniq,payment_count))]\n",
        "pay_type = ['Credit card','Cash','No charge','Dispute','Unknow']\n",
        "\n",
        "sns.set_style(\"whitegrid\")\n",
        "\n",
        "fig, ax = plt.subplots()\n",
        "fig.set_size_inches(12, 5)\n",
        "\n",
        "ax = sns.barplot(x = np.array(pay_type) , y = np.array(pay_pickups))\n",
        "ax.set(ylabel='Pickups',xlabel = 'payment types')\n",
        "plt.show()"
      ],
      "execution_count": 31,
      "outputs": [
        {
          "output_type": "display_data",
          "data": {
            "image/png": "[encoded data removed]",
            "text/plain": [
              "<Figure size 864x360 with 1 Axes>"
            ]
          },
          "metadata": {
            "tags": []
          }
        }
      ]
    },
    {
      "cell_type": "code",
      "metadata": {
        "id": "I-JzBjwnZem0",
        "colab_type": "code",
        "colab": {}
      },
      "source": [
        ""
      ],
      "execution_count": 0,
      "outputs": []
    },
    {
      "cell_type": "markdown",
      "metadata": {
        "id": "0o7N-QGsRtD4",
        "colab_type": "text"
      },
      "source": [
        "## 1.7: Analyzing Trip Times"
      ]
    },
    {
      "cell_type": "markdown",
      "metadata": {
        "id": "dLueY1ysRymt",
        "colab_type": "text"
      },
      "source": [
        "In NY maximum allowed trip duration in 24 hours is 12 hours means allowerd work hour for drivers is 12 hours and allowed time for 1 trip is also 12 hours\n"
      ]
    },
    {
      "cell_type": "code",
      "metadata": {
        "id": "8gqDAHN5KKRO",
        "colab_type": "code",
        "colab": {
          "base_uri": "https://localhost:8080/",
          "height": 255
        },
        "outputId": "693f6d6e-764b-48d9-f3fc-223973c62499"
      },
      "source": [
        "# plotting box plot for outlier checking\n",
        "sns.boxplot(y = 'trip_times', data = new_frame)\n",
        "plt.show()"
      ],
      "execution_count": 32,
      "outputs": [
        {
          "output_type": "display_data",
          "data": {
            "image/png": "[encoded data removed]",
            "text/plain": [
              "<Figure size 432x288 with 1 Axes>"
            ]
          },
          "metadata": {
            "tags": []
          }
        }
      ]
    },
    {
      "cell_type": "code",
      "metadata": {
        "id": "kpiHZGtCM97p",
        "colab_type": "code",
        "colab": {
          "base_uri": "https://localhost:8080/",
          "height": 204
        },
        "outputId": "18693cec-5e90-4f85-8a39-9361de5e9f23"
      },
      "source": [
        "# calculating 0-100th percentile to find correct value of outliers\n",
        "for i in range(0,101,10):\n",
        "  var = new_frame[\"trip_times\"].values\n",
        "  var = np.sort(var, axis = None)\n",
        "  percentile_val = np.percentile(var, i)\n",
        "  print(i,\"th percentile value is: \",percentile_val)"
      ],
      "execution_count": 33,
      "outputs": [
        {
          "output_type": "stream",
          "text": [
            "0 th percentile value is:  -1211.0166666666667\n",
            "10 th percentile value is:  3.8333333333333335\n",
            "20 th percentile value is:  5.383333333333334\n",
            "30 th percentile value is:  6.816666666666666\n",
            "40 th percentile value is:  8.3\n",
            "50 th percentile value is:  9.95\n",
            "60 th percentile value is:  11.866666666666667\n",
            "70 th percentile value is:  14.283333333333333\n",
            "80 th percentile value is:  17.633333333333333\n",
            "90 th percentile value is:  23.45\n",
            "100 th percentile value is:  548555.6333333333\n"
          ],
          "name": "stdout"
        }
      ]
    },
    {
      "cell_type": "code",
      "metadata": {
        "id": "BDCI2yUrNAxE",
        "colab_type": "code",
        "colab": {
          "base_uri": "https://localhost:8080/",
          "height": 221
        },
        "outputId": "d781f82d-d9f2-4d2d-8fa9-c15234bf8655"
      },
      "source": [
        "# looking further from 99 percentile to 100th percentile\n",
        "for i in range(0,101,10):\n",
        "  var = new_frame[\"trip_times\"].values\n",
        "  var = np.sort(var, axis = None)\n",
        "  percentile_val = np.percentile(var, i)\n",
        "  print(i,\"th percentile value is: \",percentile_val)\n",
        "print(\"100 percentile value is \", var[-1])"
      ],
      "execution_count": 34,
      "outputs": [
        {
          "output_type": "stream",
          "text": [
            "0 th percentile value is:  -1211.0166666666667\n",
            "10 th percentile value is:  3.8333333333333335\n",
            "20 th percentile value is:  5.383333333333334\n",
            "30 th percentile value is:  6.816666666666666\n",
            "40 th percentile value is:  8.3\n",
            "50 th percentile value is:  9.95\n",
            "60 th percentile value is:  11.866666666666667\n",
            "70 th percentile value is:  14.283333333333333\n",
            "80 th percentile value is:  17.633333333333333\n",
            "90 th percentile value is:  23.45\n",
            "100 th percentile value is:  548555.6333333333\n",
            "100 percentile value is  548555.6333333333\n"
          ],
          "name": "stdout"
        }
      ]
    },
    {
      "cell_type": "code",
      "metadata": {
        "id": "osj95OrvNEm5",
        "colab_type": "code",
        "colab": {}
      },
      "source": [
        "# removing data bases on analysis and TLC regulations\n",
        "\n",
        "new_frame = new_frame[(new_frame.trip_times > 0) & (new_frame.trip_times < 720)]"
      ],
      "execution_count": 0,
      "outputs": []
    },
    {
      "cell_type": "code",
      "metadata": {
        "id": "_Y42i_BJNKQt",
        "colab_type": "code",
        "colab": {
          "base_uri": "https://localhost:8080/",
          "height": 272
        },
        "outputId": "c78792ca-a440-43ca-a1aa-ff71fd95f070"
      },
      "source": [
        "sns.boxplot(y = 'trip_times', data = new_frame)"
      ],
      "execution_count": 36,
      "outputs": [
        {
          "output_type": "execute_result",
          "data": {
            "text/plain": [
              "<matplotlib.axes._subplots.AxesSubplot at 0x7fe214b099e8>"
            ]
          },
          "metadata": {
            "tags": []
          },
          "execution_count": 36
        },
        {
          "output_type": "display_data",
          "data": {
            "image/png": "[encoded data removed]",
            "text/plain": [
              "<Figure size 432x288 with 1 Axes>"
            ]
          },
          "metadata": {
            "tags": []
          }
        }
      ]
    },
    {
      "cell_type": "code",
      "metadata": {
        "id": "ykoeRlgqNNNg",
        "colab_type": "code",
        "colab": {
          "base_uri": "https://localhost:8080/",
          "height": 475
        },
        "outputId": "00d32e09-6aa3-4760-8454-f88f424132ee"
      },
      "source": [
        "# pdf of trip_times after removing outliers\n",
        "sns.FacetGrid(new_frame , size = 6).map(sns.kdeplot, \"trip_times\").add_legend()\n",
        "plt.show()"
      ],
      "execution_count": 37,
      "outputs": [
        {
          "output_type": "stream",
          "text": [
            "/usr/local/lib/python3.6/dist-packages/seaborn/axisgrid.py:230: UserWarning: The `size` paramter has been renamed to `height`; please update your code.\n",
            "  warnings.warn(msg, UserWarning)\n"
          ],
          "name": "stderr"
        },
        {
          "output_type": "display_data",
          "data": {
            "image/png": "[encoded data removed]",
            "text/plain": [
              "<Figure size 517.875x432 with 1 Axes>"
            ]
          },
          "metadata": {
            "tags": []
          }
        }
      ]
    },
    {
      "cell_type": "code",
      "metadata": {
        "id": "Lvh-zDwlNgvP",
        "colab_type": "code",
        "colab": {}
      },
      "source": [
        "# convertig trip_time values to log form inorder to check log normal\n",
        "\n",
        "new_frame['log_times'] = np.log(new_frame['trip_times'])\n",
        "    "
      ],
      "execution_count": 0,
      "outputs": []
    },
    {
      "cell_type": "code",
      "metadata": {
        "id": "7s_2loiTNlMu",
        "colab_type": "code",
        "colab": {
          "base_uri": "https://localhost:8080/",
          "height": 475
        },
        "outputId": "d43f8bd1-ffa5-47d1-816c-32e8b9ed32bc"
      },
      "source": [
        "# pdf of trip_times after removing outliers\n",
        "sns.FacetGrid(new_frame , size = 6).map(sns.kdeplot, \"log_times\").add_legend()\n",
        "plt.show()"
      ],
      "execution_count": 39,
      "outputs": [
        {
          "output_type": "stream",
          "text": [
            "/usr/local/lib/python3.6/dist-packages/seaborn/axisgrid.py:230: UserWarning: The `size` paramter has been renamed to `height`; please update your code.\n",
            "  warnings.warn(msg, UserWarning)\n"
          ],
          "name": "stderr"
        },
        {
          "output_type": "display_data",
          "data": {
            "image/png": "[encoded data removed]",
            "text/plain": [
              "<Figure size 516x432 with 1 Axes>"
            ]
          },
          "metadata": {
            "tags": []
          }
        }
      ]
    },
    {
      "cell_type": "markdown",
      "metadata": {
        "id": "J1SmkgYHNs1E",
        "colab_type": "text"
      },
      "source": [
        "above plot shows that after taking log of trip times it resembles to normal distribution but not completly"
      ]
    },
    {
      "cell_type": "code",
      "metadata": {
        "id": "m4wLyoJeNp_n",
        "colab_type": "code",
        "colab": {
          "base_uri": "https://localhost:8080/",
          "height": 295
        },
        "outputId": "2cdc90dc-1722-48fd-fc28-b7896dcd4d67"
      },
      "source": [
        "# Q-Q plot to check if trip_time is log_normal\n",
        "scipy.stats.probplot(new_frame['log_times'].values, plot = plt)\n",
        "plt.show()"
      ],
      "execution_count": 40,
      "outputs": [
        {
          "output_type": "display_data",
          "data": {
            "image/png": "[encoded data removed]",
            "text/plain": [
              "<Figure size 432x288 with 1 Axes>"
            ]
          },
          "metadata": {
            "tags": []
          }
        }
      ]
    },
    {
      "cell_type": "markdown",
      "metadata": {
        "id": "GG65_b-TPGK2",
        "colab_type": "text"
      },
      "source": [
        "so it seems that trip time behave as normal distribution from range of -2 to 4, from tails it does not resembles normal dist."
      ]
    },
    {
      "cell_type": "markdown",
      "metadata": {
        "id": "f2PaP2l8O8u2",
        "colab_type": "text"
      },
      "source": [
        " ## 1.8 Analyzing Speed"
      ]
    },
    {
      "cell_type": "code",
      "metadata": {
        "id": "utzp1YZlPLX5",
        "colab_type": "code",
        "colab": {
          "base_uri": "https://localhost:8080/",
          "height": 263
        },
        "outputId": "7b881cdb-891f-40e4-fc33-7797c8172eb7"
      },
      "source": [
        "# plotting speed feature to check outliers\n",
        "\n",
        "sns.boxplot(y = 'speed', data = new_frame)\n",
        "plt.show()"
      ],
      "execution_count": 41,
      "outputs": [
        {
          "output_type": "display_data",
          "data": {
            "image/png": "[encoded data removed]",
            "text/plain": [
              "<Figure size 432x288 with 1 Axes>"
            ]
          },
          "metadata": {
            "tags": []
          }
        }
      ]
    },
    {
      "cell_type": "code",
      "metadata": {
        "id": "uSHWOQPiPODU",
        "colab_type": "code",
        "colab": {
          "base_uri": "https://localhost:8080/",
          "height": 204
        },
        "outputId": "fa1dd098-f8bb-4980-9a76-7fb6c3f96bc6"
      },
      "source": [
        "# calculating speed value in each outlier\n",
        "for i in range(0,101,10):\n",
        "  var = new_frame[\"speed\"].values\n",
        "  var = np.sort(var, axis = None)\n",
        "  percentile_val = np.percentile(var, i)\n",
        "  print(i,\"th percentile value is: \",percentile_val)"
      ],
      "execution_count": 42,
      "outputs": [
        {
          "output_type": "stream",
          "text": [
            "0 th percentile value is:  0.0\n",
            "10 th percentile value is:  6.3458980044345905\n",
            "20 th percentile value is:  7.771217712177122\n",
            "30 th percentile value is:  8.902627511591964\n",
            "40 th percentile value is:  9.960474308300395\n",
            "50 th percentile value is:  11.052631578947368\n",
            "60 th percentile value is:  12.277087033747781\n",
            "70 th percentile value is:  13.793322734499206\n",
            "80 th percentile value is:  15.973509933774835\n",
            "90 th percentile value is:  20.233740635556018\n",
            "100 th percentile value is:  406256374.28571427\n"
          ],
          "name": "stdout"
        }
      ]
    },
    {
      "cell_type": "code",
      "metadata": {
        "id": "AMlONR1rPSSS",
        "colab_type": "code",
        "colab": {
          "base_uri": "https://localhost:8080/",
          "height": 204
        },
        "outputId": "3a329ee5-1eca-443a-f1f7-6a91720cf8b4"
      },
      "source": [
        "# calculating percentile value between 90th and 100th percentile\n",
        "for i in range(90,101):\n",
        "  var = new_frame[\"speed\"].values\n",
        "  var = np.sort(var, axis = None)\n",
        "  percentile_val = np.percentile(var, i)\n",
        "  print(i,\"th percentile value is: \",percentile_val)"
      ],
      "execution_count": 43,
      "outputs": [
        {
          "output_type": "stream",
          "text": [
            "90 th percentile value is:  20.233740635556018\n",
            "91 th percentile value is:  20.97087378640777\n",
            "92 th percentile value is:  21.81818181818182\n",
            "93 th percentile value is:  22.790152403282534\n",
            "94 th percentile value is:  23.927492447129907\n",
            "95 th percentile value is:  25.277206444638658\n",
            "96 th percentile value is:  26.922888616891065\n",
            "97 th percentile value is:  28.99192245557351\n",
            "98 th percentile value is:  31.811487481590575\n",
            "99 th percentile value is:  36.12428650973351\n",
            "100 th percentile value is:  406256374.28571427\n"
          ],
          "name": "stdout"
        }
      ]
    },
    {
      "cell_type": "code",
      "metadata": {
        "id": "sgZof1YGPVoM",
        "colab_type": "code",
        "colab": {
          "base_uri": "https://localhost:8080/",
          "height": 204
        },
        "outputId": "917dbeac-d2ce-4ef4-cc27-28a555b27b04"
      },
      "source": [
        "#checking percentile value between 99th and 100th percentile\n",
        "for i in np.arange(0.0, 1.0, 0.1):\n",
        "  var = new_frame[\"speed\"].values\n",
        "  var = np.sort(var, axis = None)\n",
        "  percentile_val = np.percentile(var, i+99)\n",
        "  print(i+99,\"th percentile value is: \",percentile_val)\n",
        "  \n",
        "print(100,\"th percentile value  is: \",var[-1])"
      ],
      "execution_count": 44,
      "outputs": [
        {
          "output_type": "stream",
          "text": [
            "99.0 th percentile value is:  36.12428650973351\n",
            "99.1 th percentile value is:  36.71641791044775\n",
            "99.2 th percentile value is:  37.370600856535546\n",
            "99.3 th percentile value is:  38.09372215739944\n",
            "99.4 th percentile value is:  38.90800972326104\n",
            "99.5 th percentile value is:  39.84\n",
            "99.6 th percentile value is:  40.95531083826694\n",
            "99.7 th percentile value is:  42.352941176470594\n",
            "99.8 th percentile value is:  44.4\n",
            "99.9 th percentile value is:  49.44450477126318\n",
            "100 th percentile value  is:  406256374.28571427\n"
          ],
          "name": "stdout"
        }
      ]
    },
    {
      "cell_type": "code",
      "metadata": {
        "id": "vAuVwUEHPXo_",
        "colab_type": "code",
        "colab": {}
      },
      "source": [
        "# removing outliers from speed \n",
        "\n",
        "new_frame = new_frame[(new_frame.speed < 45.31) & (new_frame.speed > 0)]"
      ],
      "execution_count": 0,
      "outputs": []
    },
    {
      "cell_type": "code",
      "metadata": {
        "id": "jgpyJY-mPgCV",
        "colab_type": "code",
        "colab": {
          "base_uri": "https://localhost:8080/",
          "height": 255
        },
        "outputId": "439cd3d4-7fd0-43de-f84e-44f9dd148bf6"
      },
      "source": [
        "sns.boxplot(y = 'speed', data = new_frame)\n",
        "plt.show()"
      ],
      "execution_count": 46,
      "outputs": [
        {
          "output_type": "display_data",
          "data": {
            "image/png": "[encoded data removed]",
            "text/plain": [
              "<Figure size 432x288 with 1 Axes>"
            ]
          },
          "metadata": {
            "tags": []
          }
        }
      ]
    },
    {
      "cell_type": "code",
      "metadata": {
        "id": "bZMTqIpzPiBW",
        "colab_type": "code",
        "colab": {
          "base_uri": "https://localhost:8080/",
          "height": 34
        },
        "outputId": "33aa350d-97cc-4771-84e0-e01730e11347"
      },
      "source": [
        "print('mean speed is found to be ', new_frame['speed'].mean())"
      ],
      "execution_count": 47,
      "outputs": [
        {
          "output_type": "stream",
          "text": [
            "mean speed is found to be  12.458636437076578\n"
          ],
          "name": "stdout"
        }
      ]
    },
    {
      "cell_type": "markdown",
      "metadata": {
        "id": "eBeOFiwWPwm9",
        "colab_type": "text"
      },
      "source": [
        " ## 1.9 Analyzing trip distance"
      ]
    },
    {
      "cell_type": "code",
      "metadata": {
        "id": "pktMT4gqPm9I",
        "colab_type": "code",
        "colab": {
          "base_uri": "https://localhost:8080/",
          "height": 255
        },
        "outputId": "634a2499-86ea-4565-ddf8-4ff44f22cb24"
      },
      "source": [
        "# plotting speed feature to check outliers\n",
        "\n",
        "sns.boxplot(y = 'trip_distance', data = new_frame)\n",
        "plt.show()"
      ],
      "execution_count": 48,
      "outputs": [
        {
          "output_type": "display_data",
          "data": {
            "image/png": "[encoded data removed]",
            "text/plain": [
              "<Figure size 432x288 with 1 Axes>"
            ]
          },
          "metadata": {
            "tags": []
          }
        }
      ]
    },
    {
      "cell_type": "code",
      "metadata": {
        "id": "CwOEmMt8P1qw",
        "colab_type": "code",
        "colab": {
          "base_uri": "https://localhost:8080/",
          "height": 204
        },
        "outputId": "f43e17f5-5a51-4ec5-d6d7-dfe86e4110fd"
      },
      "source": [
        "for i in range(0,101,10):\n",
        "  var = new_frame[\"trip_distance\"].values\n",
        "  var = np.sort(var, axis = None)\n",
        "  percentile_val = np.percentile(var, i)\n",
        "  print(i,\"th percentile value is: \",percentile_val)"
      ],
      "execution_count": 49,
      "outputs": [
        {
          "output_type": "stream",
          "text": [
            "0 th percentile value is:  0.01\n",
            "10 th percentile value is:  0.66\n",
            "20 th percentile value is:  0.9000000000000001\n",
            "30 th percentile value is:  1.1\n",
            "40 th percentile value is:  1.39\n",
            "50 th percentile value is:  1.69\n",
            "60 th percentile value is:  2.07\n",
            "70 th percentile value is:  2.6\n",
            "80 th percentile value is:  3.6\n",
            "90 th percentile value is:  5.96\n",
            "100 th percentile value is:  258.9\n"
          ],
          "name": "stdout"
        }
      ]
    },
    {
      "cell_type": "code",
      "metadata": {
        "id": "VuT2-FxcP3hk",
        "colab_type": "code",
        "colab": {
          "base_uri": "https://localhost:8080/",
          "height": 204
        },
        "outputId": "06c79a0f-a822-4dda-af82-74b7e592d647"
      },
      "source": [
        "for i in range(90,101):\n",
        "  var = new_frame[\"trip_distance\"].values\n",
        "  var = np.sort(var, axis = None)\n",
        "  percentile_val = np.percentile(var, i)\n",
        "  print(i,\"th percentile value is: \",percentile_val)"
      ],
      "execution_count": 50,
      "outputs": [
        {
          "output_type": "stream",
          "text": [
            "90 th percentile value is:  5.96\n",
            "91 th percentile value is:  6.45\n",
            "92 th percentile value is:  7.07\n",
            "93 th percentile value is:  7.84\n",
            "94 th percentile value is:  8.72\n",
            "95 th percentile value is:  9.6\n",
            "96 th percentile value is:  10.6\n",
            "97 th percentile value is:  12.1\n",
            "98 th percentile value is:  16.03\n",
            "99 th percentile value is:  18.17\n",
            "100 th percentile value is:  258.9\n"
          ],
          "name": "stdout"
        }
      ]
    },
    {
      "cell_type": "code",
      "metadata": {
        "id": "TuJ2S5KGP5nH",
        "colab_type": "code",
        "colab": {
          "base_uri": "https://localhost:8080/",
          "height": 204
        },
        "outputId": "f95d51d1-9ace-4599-9921-a920e8fa70e5"
      },
      "source": [
        "for i in np.arange(0.0, 1.0, 0.1):\n",
        "  var = new_frame[\"trip_distance\"].values\n",
        "  var = np.sort(var, axis = None)\n",
        "  percentile_val = np.percentile(var, i+99)\n",
        "  print(i+99,\"th percentile value is: \",percentile_val)\n",
        "  \n",
        "print(100,\"th percentile value  is: \",var[-1])"
      ],
      "execution_count": 51,
      "outputs": [
        {
          "output_type": "stream",
          "text": [
            "99.0 th percentile value is:  18.17\n",
            "99.1 th percentile value is:  18.36\n",
            "99.2 th percentile value is:  18.6\n",
            "99.3 th percentile value is:  18.83\n",
            "99.4 th percentile value is:  19.13\n",
            "99.5 th percentile value is:  19.5\n",
            "99.6 th percentile value is:  19.96\n",
            "99.7 th percentile value is:  20.5\n",
            "99.8 th percentile value is:  21.22\n",
            "99.9 th percentile value is:  22.57\n",
            "100 th percentile value  is:  258.9\n"
          ],
          "name": "stdout"
        }
      ]
    },
    {
      "cell_type": "code",
      "metadata": {
        "id": "KZf_uTurP7bc",
        "colab_type": "code",
        "colab": {}
      },
      "source": [
        "new_frame = new_frame[(new_frame.trip_distance >0) & (new_frame.trip_distance<23)]"
      ],
      "execution_count": 0,
      "outputs": []
    },
    {
      "cell_type": "code",
      "metadata": {
        "id": "2LO_J8QaP-jE",
        "colab_type": "code",
        "colab": {
          "base_uri": "https://localhost:8080/",
          "height": 255
        },
        "outputId": "05416955-1958-4655-9c6e-715db2883d14"
      },
      "source": [
        "sns.boxplot(y = \"trip_distance\", data= new_frame)\n",
        "plt.show()"
      ],
      "execution_count": 53,
      "outputs": [
        {
          "output_type": "display_data",
          "data": {
            "image/png": "[encoded data removed]",
            "text/plain": [
              "<Figure size 432x288 with 1 Axes>"
            ]
          },
          "metadata": {
            "tags": []
          }
        }
      ]
    },
    {
      "cell_type": "code",
      "metadata": {
        "id": "3r-FSqKBSk-_",
        "colab_type": "code",
        "colab": {}
      },
      "source": [
        ""
      ],
      "execution_count": 0,
      "outputs": []
    },
    {
      "cell_type": "markdown",
      "metadata": {
        "id": "pSpxwiMNQS5O",
        "colab_type": "text"
      },
      "source": [
        " ## 1.10 Analyzing Fare"
      ]
    },
    {
      "cell_type": "code",
      "metadata": {
        "id": "pUCCwFBVSu2T",
        "colab_type": "code",
        "colab": {
          "base_uri": "https://localhost:8080/",
          "height": 136
        },
        "outputId": "71e2512f-d031-4d56-9ee9-e5ed53d36094"
      },
      "source": [
        "month.columns"
      ],
      "execution_count": 54,
      "outputs": [
        {
          "output_type": "execute_result",
          "data": {
            "text/plain": [
              "Index(['VendorID', 'tpep_pickup_datetime', 'tpep_dropoff_datetime',\n",
              "       'passenger_count', 'trip_distance', 'pickup_longitude',\n",
              "       'pickup_latitude', 'RateCodeID', 'store_and_fwd_flag',\n",
              "       'dropoff_longitude', 'dropoff_latitude', 'payment_type', 'fare_amount',\n",
              "       'extra', 'mta_tax', 'tip_amount', 'tolls_amount',\n",
              "       'improvement_surcharge', 'total_amount'],\n",
              "      dtype='object')"
            ]
          },
          "metadata": {
            "tags": []
          },
          "execution_count": 54
        }
      ]
    },
    {
      "cell_type": "code",
      "metadata": {
        "id": "ZY2Zn2-gQBd5",
        "colab_type": "code",
        "colab": {
          "base_uri": "https://localhost:8080/",
          "height": 255
        },
        "outputId": "076e525f-92f7-4a14-944a-e193dec26027"
      },
      "source": [
        "sns.boxplot(y = 'total_amount', data = new_frame)\n",
        "plt.show()"
      ],
      "execution_count": 55,
      "outputs": [
        {
          "output_type": "display_data",
          "data": {
            "image/png": "[encoded data removed]",
            "text/plain": [
              "<Figure size 432x288 with 1 Axes>"
            ]
          },
          "metadata": {
            "tags": []
          }
        }
      ]
    },
    {
      "cell_type": "code",
      "metadata": {
        "id": "yjTbblYWQYE4",
        "colab_type": "code",
        "colab": {
          "base_uri": "https://localhost:8080/",
          "height": 204
        },
        "outputId": "8bc2a393-17f0-4c7d-d474-49ff6eb527c1"
      },
      "source": [
        "for i in range(0,101,10):\n",
        "  var = new_frame[\"total_amount\"].values\n",
        "  var = np.sort(var, axis = None)\n",
        "  percentile_val = np.percentile(var, i)\n",
        "  print(i,\"th percentile value is: \",percentile_val)"
      ],
      "execution_count": 56,
      "outputs": [
        {
          "output_type": "stream",
          "text": [
            "0 th percentile value is:  -242.55\n",
            "10 th percentile value is:  6.35\n",
            "20 th percentile value is:  7.799999999999999\n",
            "30 th percentile value is:  8.8\n",
            "40 th percentile value is:  9.8\n",
            "50 th percentile value is:  11.16\n",
            "60 th percentile value is:  12.8\n",
            "70 th percentile value is:  14.8\n",
            "80 th percentile value is:  18.3\n",
            "90 th percentile value is:  25.8\n",
            "100 th percentile value is:  3950611.6\n"
          ],
          "name": "stdout"
        }
      ]
    },
    {
      "cell_type": "code",
      "metadata": {
        "id": "-n-wIEwsQaqa",
        "colab_type": "code",
        "colab": {
          "base_uri": "https://localhost:8080/",
          "height": 204
        },
        "outputId": "3b39323c-bd1f-445b-a49b-ccf9dc56e0e3"
      },
      "source": [
        "\n",
        "for i in range(90,101):\n",
        "  var = new_frame[\"total_amount\"].values\n",
        "  var = np.sort(var, axis = None)\n",
        "  percentile_val = np.percentile(var, i)\n",
        "  print(i,\"th percentile value is: \",percentile_val)"
      ],
      "execution_count": 57,
      "outputs": [
        {
          "output_type": "stream",
          "text": [
            "90 th percentile value is:  25.8\n",
            "91 th percentile value is:  27.3\n",
            "92 th percentile value is:  29.12\n",
            "93 th percentile value is:  31.55\n",
            "94 th percentile value is:  34.63\n",
            "95 th percentile value is:  38.15\n",
            "96 th percentile value is:  42.13\n",
            "97 th percentile value is:  47.56\n",
            "98 th percentile value is:  57.76\n",
            "99 th percentile value is:  65.93\n",
            "100 th percentile value is:  3950611.6\n"
          ],
          "name": "stdout"
        }
      ]
    },
    {
      "cell_type": "code",
      "metadata": {
        "id": "dxQ7PPs8QdKp",
        "colab_type": "code",
        "colab": {
          "base_uri": "https://localhost:8080/",
          "height": 204
        },
        "outputId": "718075b9-2970-4a37-ac6a-387f68e0004f"
      },
      "source": [
        "for i in np.arange(0.0, 1.0, 0.1):\n",
        "  var = new_frame[\"total_amount\"].values\n",
        "  var = np.sort(var, axis = None)\n",
        "  percentile_val = np.percentile(var, i+99)\n",
        "  print(i+99,\"th percentile value is: \",percentile_val)\n",
        "  \n",
        "print(100,\"th percentile value  is: \",var[-1])"
      ],
      "execution_count": 58,
      "outputs": [
        {
          "output_type": "stream",
          "text": [
            "99.0 th percentile value is:  65.93\n",
            "99.1 th percentile value is:  67.8\n",
            "99.2 th percentile value is:  69.06\n",
            "99.3 th percentile value is:  69.6\n",
            "99.4 th percentile value is:  69.73\n",
            "99.5 th percentile value is:  69.73\n",
            "99.6 th percentile value is:  69.76\n",
            "99.7 th percentile value is:  72.46\n",
            "99.8 th percentile value is:  75.3\n",
            "99.9 th percentile value is:  87.0\n",
            "100 th percentile value  is:  3950611.6\n"
          ],
          "name": "stdout"
        }
      ]
    },
    {
      "cell_type": "code",
      "metadata": {
        "id": "8Doe-JgeQfOp",
        "colab_type": "code",
        "colab": {
          "base_uri": "https://localhost:8080/",
          "height": 282
        },
        "outputId": "6e7940dc-80b8-4f54-d52d-38f7c7098bcc"
      },
      "source": [
        "#plot the fare amount excluding last two values in sorted data\n",
        "plt.plot(var[:-2])\n",
        "plt.show()"
      ],
      "execution_count": 59,
      "outputs": [
        {
          "output_type": "display_data",
          "data": {
            "image/png": "[encoded data removed]",
            "text/plain": [
              "<Figure size 432x288 with 1 Axes>"
            ]
          },
          "metadata": {
            "tags": []
          }
        }
      ]
    },
    {
      "cell_type": "code",
      "metadata": {
        "id": "0WSTyfVMQhyz",
        "colab_type": "code",
        "colab": {
          "base_uri": "https://localhost:8080/",
          "height": 269
        },
        "outputId": "b756d5f6-4feb-4d89-d61e-5b1728661ba5"
      },
      "source": [
        "# plotting last 3 fare values\n",
        "plt.plot(var[-3:])\n",
        "plt.show()"
      ],
      "execution_count": 60,
      "outputs": [
        {
          "output_type": "display_data",
          "data": {
            "image/png": "[encoded data removed]",
            "text/plain": [
              "<Figure size 432x288 with 1 Axes>"
            ]
          },
          "metadata": {
            "tags": []
          }
        }
      ]
    },
    {
      "cell_type": "code",
      "metadata": {
        "id": "sE3vb9AhQjyd",
        "colab_type": "code",
        "colab": {
          "base_uri": "https://localhost:8080/",
          "height": 269
        },
        "outputId": "79b8fbd4-a96e-4ebb-ce8e-86a6984b2c4c"
      },
      "source": [
        "# plotting last 50 values excluding last two values\n",
        "plt.plot(var[-50:-2])\n",
        "plt.show()"
      ],
      "execution_count": 61,
      "outputs": [
        {
          "output_type": "display_data",
          "data": {
            "image/png": "[encoded data removed]",
            "text/plain": [
              "<Figure size 432x288 with 1 Axes>"
            ]
          },
          "metadata": {
            "tags": []
          }
        }
      ]
    },
    {
      "cell_type": "code",
      "metadata": {
        "id": "DiosPiCbQnCy",
        "colab_type": "code",
        "colab": {}
      },
      "source": [
        "new_frame = new_frame[(new_frame.total_amount <1000) & (new_frame.total_amount >0)]"
      ],
      "execution_count": 0,
      "outputs": []
    },
    {
      "cell_type": "code",
      "metadata": {
        "id": "q-8qanTOQqDR",
        "colab_type": "code",
        "colab": {}
      },
      "source": [
        "# removing drop off and pickup outliers\n",
        "new_frame = new_frame[((new_frame.dropoff_longitude >= -74.15) & (new_frame.dropoff_longitude <= -73.7004) &\\\n",
        "                       (new_frame.dropoff_latitude >= 40.5774) & (new_frame.dropoff_latitude <= 40.9176)) & \\\n",
        "                       ((new_frame.pickup_longitude >= -74.15) & (new_frame.pickup_latitude >= 40.5774)& \\\n",
        "                       (new_frame.pickup_longitude <= -73.7004) & (new_frame.pickup_latitude <= 40.9176))]"
      ],
      "execution_count": 0,
      "outputs": []
    },
    {
      "cell_type": "code",
      "metadata": {
        "id": "Z8rtHCNGQsRK",
        "colab_type": "code",
        "colab": {
          "base_uri": "https://localhost:8080/",
          "height": 34
        },
        "outputId": "9c192751-82fe-4b58-b46c-99652e7609a0"
      },
      "source": [
        "print(float(len(new_frame)/len(month)))"
      ],
      "execution_count": 64,
      "outputs": [
        {
          "output_type": "stream",
          "text": [
            "0.9703576425607495\n"
          ],
          "name": "stdout"
        }
      ]
    },
    {
      "cell_type": "markdown",
      "metadata": {
        "id": "jEvFO_0vIPfq",
        "colab_type": "text"
      },
      "source": [
        "# 2.0: DATA PREPERATION"
      ]
    },
    {
      "cell_type": "markdown",
      "metadata": {
        "id": "LFmGOMmrIfJZ",
        "colab_type": "text"
      },
      "source": [
        "Businesss problem we are solving is to predict number of pickups using Region and time bin. early we cleaned the data and removed all outliers, now we need to preprocess data inorder to solve our problem. in this case there are 2 preprocessing stages. \n",
        "\n",
        "\n",
        "1.   Breaking whole NewYork into segments/clusters.\n",
        "2.   Breaking time into 10 min bins.\n",
        "\n",
        "here we will work on 1st stage for that we will use K means clustering to cluster whole data into segments. here we need to see two important things that is driver takes 10 mins to complete 2 miles i.e. inter cluster distance is 2 miles. and cluster size should not be very small so minimum intercluster distance should not exceed 0.5 miles (just and assumption.)\n",
        "\n"
      ]
    },
    {
      "cell_type": "markdown",
      "metadata": {
        "id": "90FJvUyGIk6n",
        "colab_type": "text"
      },
      "source": [
        "## 2.1: Clustering/Segmentation"
      ]
    },
    {
      "cell_type": "code",
      "metadata": {
        "id": "U26sPy-dINxO",
        "colab_type": "code",
        "colab": {}
      },
      "source": [
        "coords = new_frame[['pickup_latitude', 'pickup_longitude']].values\n",
        "def find_clusters(i):\n",
        "\n",
        "  kmeans = MiniBatchKMeans(n_clusters = i, batch_size = 10000, random_state = 42).fit(coords)\n",
        "  new_frame['pickup_cluster'] = kmeans.predict(new_frame[['pickup_latitude','pickup_longitude']])\n",
        "  cluster_centers = kmeans.cluster_centers_\n",
        "  cluster_len     = len(cluster_centers)\n",
        "  return cluster_centers, cluster_len"
      ],
      "execution_count": 0,
      "outputs": []
    },
    {
      "cell_type": "code",
      "metadata": {
        "id": "OK0_1WeoH3Ur",
        "colab_type": "code",
        "colab": {}
      },
      "source": [
        "neighbours = []\n",
        "def find_min_distance(cluster_centers, cluster_len):\n",
        "  nice_points = 0\n",
        "  wrong_points = 0\n",
        "  less2 = []\n",
        "  more2 = []\n",
        "  min_dist = 1000\n",
        "  for i in range(0, cluster_len):\n",
        "    nice_points = 0\n",
        "    wrong_points = 0\n",
        "    for j in range(0, cluster_len):\n",
        "      \n",
        "      if j!=i:\n",
        "        distance = gpxpy.geo.haversine_distance(cluster_centers[i][0], cluster_centers[i][1], cluster_centers[j][0], cluster_centers[j][1])\n",
        "        min_dist = min(min_dist, distance/(1.60934*1000) )\n",
        "        if (distance/(1.60934*1000)) <= 2:\n",
        "          nice_points += 1\n",
        "        else:\n",
        "          wrong_points += 1\n",
        "    less2.append(nice_points)\n",
        "    more2.append(wrong_points)\n",
        "  neighbours.append(less2)\n",
        "  print(\"on choosing a cluster size of \",cluster_len,\"\\nAvg number of clusters within the vicinity (i.e. intercluster-distance < 2):\" ,np.ceil(sum(less2)/len(less2)), \"\\nAvg number of clusters outside the vicinity (i.e. intercluster-distance > 2):\", np.ceil(sum(more2)/len(more2)),\"\\nMin inter cluster distance is:\", min_dist)"
      ],
      "execution_count": 0,
      "outputs": []
    },
    {
      "cell_type": "code",
      "metadata": {
        "id": "mzuXyxzUIxBZ",
        "colab_type": "code",
        "colab": {
          "base_uri": "https://localhost:8080/",
          "height": 629
        },
        "outputId": "8a4b37d5-af42-4fb6-e66c-1a62009a995b"
      },
      "source": [
        "for i in range(10,100,10):\n",
        "  cluster_centers, cluster_len = find_clusters(i)\n",
        "  find_min_distance(cluster_centers, cluster_len)"
      ],
      "execution_count": 67,
      "outputs": [
        {
          "output_type": "stream",
          "text": [
            "on choosing a cluster size of  10 \n",
            "Avg number of clusters within the vicinity (i.e. intercluster-distance < 2): 2.0 \n",
            "Avg number of clusters outside the vicinity (i.e. intercluster-distance > 2): 8.0 \n",
            "Min inter cluster distance is: 1.0945442325142543\n",
            "on choosing a cluster size of  20 \n",
            "Avg number of clusters within the vicinity (i.e. intercluster-distance < 2): 4.0 \n",
            "Avg number of clusters outside the vicinity (i.e. intercluster-distance > 2): 16.0 \n",
            "Min inter cluster distance is: 0.7131298007387813\n",
            "on choosing a cluster size of  30 \n",
            "Avg number of clusters within the vicinity (i.e. intercluster-distance < 2): 8.0 \n",
            "Avg number of clusters outside the vicinity (i.e. intercluster-distance > 2): 22.0 \n",
            "Min inter cluster distance is: 0.5185088176172206\n",
            "on choosing a cluster size of  40 \n",
            "Avg number of clusters within the vicinity (i.e. intercluster-distance < 2): 8.0 \n",
            "Avg number of clusters outside the vicinity (i.e. intercluster-distance > 2): 32.0 \n",
            "Min inter cluster distance is: 0.5069768450363973\n",
            "on choosing a cluster size of  50 \n",
            "Avg number of clusters within the vicinity (i.e. intercluster-distance < 2): 12.0 \n",
            "Avg number of clusters outside the vicinity (i.e. intercluster-distance > 2): 38.0 \n",
            "Min inter cluster distance is: 0.365363025983595\n",
            "on choosing a cluster size of  60 \n",
            "Avg number of clusters within the vicinity (i.e. intercluster-distance < 2): 14.0 \n",
            "Avg number of clusters outside the vicinity (i.e. intercluster-distance > 2): 46.0 \n",
            "Min inter cluster distance is: 0.34704283494187155\n",
            "on choosing a cluster size of  70 \n",
            "Avg number of clusters within the vicinity (i.e. intercluster-distance < 2): 16.0 \n",
            "Avg number of clusters outside the vicinity (i.e. intercluster-distance > 2): 54.0 \n",
            "Min inter cluster distance is: 0.30502203163244707\n",
            "on choosing a cluster size of  80 \n",
            "Avg number of clusters within the vicinity (i.e. intercluster-distance < 2): 18.0 \n",
            "Avg number of clusters outside the vicinity (i.e. intercluster-distance > 2): 62.0 \n",
            "Min inter cluster distance is: 0.29220324531738534\n",
            "on choosing a cluster size of  90 \n",
            "Avg number of clusters within the vicinity (i.e. intercluster-distance < 2): 21.0 \n",
            "Avg number of clusters outside the vicinity (i.e. intercluster-distance > 2): 69.0 \n",
            "Min inter cluster distance is: 0.18257992857034985\n"
          ],
          "name": "stdout"
        }
      ]
    },
    {
      "cell_type": "markdown",
      "metadata": {
        "id": "61KYcjeyMAFg",
        "colab_type": "text"
      },
      "source": [
        "from above we can infer that minimum distance between 40 and 50 clusters is very large. we will take 40 clusters for our future work"
      ]
    },
    {
      "cell_type": "code",
      "metadata": {
        "id": "MGh6AisgK_5A",
        "colab_type": "code",
        "colab": {}
      },
      "source": [
        "# making 40 clusters\n",
        "kmeans = MiniBatchKMeans(n_clusters = 40, batch_size = 10000, random_state = 0).fit(coords)\n",
        "new_frame['pickup_clusters'] = kmeans.predict(new_frame[['pickup_latitude','pickup_longitude']])\n",
        "new_frame['dropoff_clusters'] = kmeans.predict(new_frame[['dropoff_latitude','dropoff_longitude']])"
      ],
      "execution_count": 0,
      "outputs": []
    },
    {
      "cell_type": "markdown",
      "metadata": {
        "id": "MrQ8XHeRNAhc",
        "colab_type": "text"
      },
      "source": [
        "## 2.2: Work on pickups per day"
      ]
    },
    {
      "cell_type": "code",
      "metadata": {
        "id": "uR-vZXH8MseL",
        "colab_type": "code",
        "colab": {}
      },
      "source": [
        "def compute_pickups_per_day():\n",
        "    time = month[['tpep_pickup_datetime','tpep_dropoff_datetime']].compute()\n",
        "    time['tpep_pickup_datetime'] = pd.to_datetime(time['tpep_pickup_datetime'])\n",
        "    time[\"pickup_day\"] = time['tpep_pickup_datetime'].dt.strftime('%u').astype(int)\n",
        "    time[\"pickup_hour\"] = time['tpep_pickup_datetime'].dt.strftime('%H').astype(int)\n",
        "    set(time['pickup_day'].values)\n",
        "    day_pickups = []\n",
        "    night_pickups = []\n",
        "    mid_night_pickups = []\n",
        "    afternoon_pickups = []\n",
        "    for i in range(1,8):\n",
        "        day_pickups.append(time[(time.pickup_day == i) & (time.pickup_hour >= 6) & (time.pickup_hour < 12)].shape[0])\n",
        "        night_pickups.append(time[(time.pickup_day == i) & (time.pickup_hour >= 18) & (time.pickup_hour <= 23)].shape[0])\n",
        "        mid_night_pickups.append(time[(time.pickup_day == i) & (time.pickup_hour >= 0) & (time.pickup_hour < 6)].shape[0])\n",
        "        afternoon_pickups.append(time[(time.pickup_day == i) & (time.pickup_hour >= 12) & (time.pickup_hour < 18)].shape[0])\n",
        "    \n",
        "    days =pd.DataFrame({'morning':day_pickups, 'afternoon':afternoon_pickups, 'night':night_pickups, 'midnight':mid_night_pickups})\n",
        "    days.plot(kind='bar', stacked=True,figsize=(4.5, 4.5))\n",
        "    plt.xlabel('Days of the week')\n",
        "    plt.ylabel('Number of pickups')\n",
        "    plt.tick_params(axis='both', which='minor')\n",
        "    plt.plot()\n",
        "    days = ['Monday','Tuesday','Wednesday','Thursday','Friday','Saturday','Sunday']\n",
        "    for i in range(0,len(days)):\n",
        "        print (\"{} -  morning:{} , day:{} , mid-day:{} night:{}\".format(days[i],mid_night_pickups[i],day_pickups[i],afternoon_pickups[i],night_pickups[i]))\n",
        "    \n",
        "    return time"
      ],
      "execution_count": 0,
      "outputs": []
    },
    {
      "cell_type": "code",
      "metadata": {
        "id": "drMQ2kZvQsym",
        "colab_type": "code",
        "colab": {
          "base_uri": "https://localhost:8080/",
          "height": 426
        },
        "outputId": "39077a43-b117-4fba-957b-45b0d436f12a"
      },
      "source": [
        "times_of_day = compute_pickups_per_day()"
      ],
      "execution_count": 70,
      "outputs": [
        {
          "output_type": "stream",
          "text": [
            "Monday -  morning:108576 , day:408179 , mid-day:434850 night:381266\n",
            "Tuesday -  morning:76339 , day:372232 , mid-day:415968 night:509383\n",
            "Wednesday -  morning:104280 , day:481818 , mid-day:488264 night:609625\n",
            "Thursday -  morning:260968 , day:545611 , mid-day:606775 night:754859\n",
            "Friday -  morning:200685 , day:547113 , mid-day:629661 night:849728\n",
            "Saturday -  morning:433710 , day:399576 , mid-day:724563 night:821859\n",
            "Sunday -  morning:377923 , day:276211 , mid-day:525948 night:403016\n"
          ],
          "name": "stdout"
        },
        {
          "output_type": "display_data",
          "data": {
            "image/png": "[encoded data removed]",
            "text/plain": [
              "<Figure size 324x324 with 1 Axes>"
            ]
          },
          "metadata": {
            "tags": []
          }
        }
      ]
    },
    {
      "cell_type": "markdown",
      "metadata": {
        "id": "6roNLT93lQgv",
        "colab_type": "text"
      },
      "source": [
        "1. saturday seems to be busiest day for the taxi driveer overall.\n",
        "2. most midnight commutes happens on saturday.\n",
        "3. friday night commutes are higher as compared to saturday  night commutes."
      ]
    },
    {
      "cell_type": "markdown",
      "metadata": {
        "id": "W0keyhzLmg8A",
        "colab_type": "text"
      },
      "source": [
        "## 2.3: Work on pickup for every hour"
      ]
    },
    {
      "cell_type": "code",
      "metadata": {
        "id": "RcuyHJXbN2Pt",
        "colab_type": "code",
        "colab": {}
      },
      "source": [
        "def pickup_in_hour(dframe):\n",
        "  hour_pickups = []\n",
        "  temp = []\n",
        "  \n",
        "  for i in range(1,8):\n",
        "    for j in range(0,24):\n",
        "      temp.append(dframe[(dframe.pickup_day == i) & (dframe.pickup_hour == j)].shape[0])\n",
        "    hour_pickups.append(temp)\n",
        "    temp = []\n",
        "  color = ['blue', 'orange', 'brown', 'coral', 'magenta', 'green', 'fuchsia']\n",
        "  days = ['Monday', 'Tuesday', \"wednesday\", 'Thursday', 'Friday', 'Saturday', 'Sunday']\n",
        "                  \n",
        "  plt.figure(figsize =(8,4))\n",
        "  hours_list = [s for s in range(0,24)]\n",
        "  for k in range(0,7):\n",
        "    plt.plot(hours_list, hour_pickups[k], color[k], label = days[k])\n",
        "    plt.plot(hours_list, hour_pickups[k], 'ro', markersize = 2)\n",
        "  plt.xticks([s for s in range(0,24)])\n",
        "  plt.xlabel('Hours of a day')\n",
        "  plt.ylabel('Number of pickups')\n",
        "  plt.title('Pickups for every hour')\n",
        "  plt.legend()\n",
        "  plt.grid(True)\n",
        "  plt.show()\n",
        "    "
      ],
      "execution_count": 0,
      "outputs": []
    },
    {
      "cell_type": "code",
      "metadata": {
        "id": "SI_oaYb7Oud6",
        "colab_type": "code",
        "colab": {
          "base_uri": "https://localhost:8080/",
          "height": 295
        },
        "outputId": "3d9e0b5c-0ed5-4a13-b54b-0a379a14b898"
      },
      "source": [
        "pickup_in_hour(times_of_day)"
      ],
      "execution_count": 72,
      "outputs": [
        {
          "output_type": "display_data",
          "data": {
            "image/png": "[encoded data removed]",
            "text/plain": [
              "<Figure size 576x288 with 1 Axes>"
            ]
          },
          "metadata": {
            "tags": []
          }
        }
      ]
    },
    {
      "cell_type": "markdown",
      "metadata": {
        "id": "Gagd9TI9qsnd",
        "colab_type": "text"
      },
      "source": [
        "## 2.4: Pickup for every hour for whole month"
      ]
    },
    {
      "cell_type": "code",
      "metadata": {
        "id": "NNRXD9HFPS8P",
        "colab_type": "code",
        "colab": {
          "base_uri": "https://localhost:8080/",
          "height": 295
        },
        "outputId": "02553dc6-5485-4541-a08b-65da280f6b1c"
      },
      "source": [
        "def pickup_in_hour_month(dframe):\n",
        "  hour_pickups_month = []\n",
        "  \n",
        "  for j in range(0,24):\n",
        "      hour_pickups_month.append(dframe[dframe.pickup_hour == j].shape[0])\n",
        "                  \n",
        "  plt.figure(figsize =(8,4))\n",
        "  hours_list = [s for s in range(0,24)]\n",
        "  plt.plot(hours_list, hour_pickups_month, 'magenta', label = 'average pickups per hour')\n",
        "  plt.plot(hours_list, hour_pickups_month, 'ro', markersize = 2)\n",
        "  plt.xticks([s for s in range(0,24)])\n",
        "  plt.xlabel('Hours of a day')\n",
        "  plt.ylabel('Number of pickups')\n",
        "  plt.title('Pickup for every hour for whole month')\n",
        "  plt.legend()\n",
        "  plt.grid(True)\n",
        "  plt.show()\n",
        "\n",
        "pickup_in_hour_month(times_of_day)\n",
        "\n"
      ],
      "execution_count": 73,
      "outputs": [
        {
          "output_type": "display_data",
          "data": {
            "image/png": "[encoded data removed]",
            "text/plain": [
              "<Figure size 576x288 with 1 Axes>"
            ]
          },
          "metadata": {
            "tags": []
          }
        }
      ]
    },
    {
      "cell_type": "code",
      "metadata": {
        "id": "x6Bar-Nyrq6-",
        "colab_type": "code",
        "colab": {}
      },
      "source": [
        "### function to remove outliers\n",
        "def convert_to_unix(s):\n",
        "    return time.mktime(datetime.datetime.strptime(s, \"%Y-%m-%d %H:%M:%S\").timetuple())\n",
        "\n",
        "def remove_outliers(new_frame):\n",
        "\n",
        "    a = new_frame.shape[0]\n",
        "    print(\"Number of pickup records = \", a)\n",
        "    temp_frame = new_frame[((new_frame.dropoff_longitude >= -74.15) & (new_frame.dropoff_longitude <= -73.7004) &\\\n",
        "                       (new_frame.dropoff_latitude >= 40.5774) & (new_frame.dropoff_latitude <= 40.9176)) & \\\n",
        "                       ((new_frame.pickup_longitude >= -74.15) & (new_frame.pickup_latitude >= 40.5774)& \\\n",
        "                       (new_frame.pickup_longitude <= -73.7004) & (new_frame.pickup_latitude <= 40.9176))]\n",
        "\n",
        "    b = temp_frame.shape[0]\n",
        "    print(\"number of outlier coordinates lying outside NY boundries = \",(a-b))\n",
        "    \n",
        "    temp_frame = new_frame[(new_frame.trip_times > 0) & (new_frame.trip_times < 720)]\n",
        "    c = temp_frame.shape[0]\n",
        "    print(\"number of outlier from trip times analysis = \",(a-c))\n",
        "    \n",
        "    temp_frame = new_frame[(new_frame.trip_distance > 0) & (new_frame.trip_distance < 23)]    \n",
        "    d = new_frame.shape[0]\n",
        "    print(\"number of outlier from trip distance analysis = \",(a-d))\n",
        "    \n",
        "    new_frame['Speed'] = 60*(new_frame['trip_distance']/new_frame['trip_times'])\n",
        "    temp_frame = new_frame[(new_frame.Speed <= 65) & (new_frame.Speed >= 0)]\n",
        "    e = temp_frame.shape[0]\n",
        "    print(\"number of outlier from trip speed analysis = \",(a-e))\n",
        "    \n",
        "    temp_frame = new_frame[(new_frame.total_amount < 1000) & (new_frame.total_amount > 0)]\n",
        "    f = temp_frame.shape[0]\n",
        "    print(\"number of outliers from fare analysis = \", (a-f))\n",
        "    \n",
        "    \n",
        "    new_frame = new_frame[((new_frame.dropoff_longitude >= -74.15) & (new_frame.dropoff_longitude <= -73.7004) &\\\n",
        "                       (new_frame.dropoff_latitude >= 40.5774) & (new_frame.dropoff_latitude <= 40.9176)) & \\\n",
        "                       ((new_frame.pickup_longitude >= -74.15) & (new_frame.pickup_latitude >= 40.5774)& \\\n",
        "                       (new_frame.pickup_longitude <= -73.7004) & (new_frame.pickup_latitude <= 40.9176))] \n",
        "    new_frame = new_frame[(new_frame.trip_times > 0) & (new_frame.trip_times < 720)]\n",
        "    new_frame = new_frame[(new_frame.trip_distance > 0) & (new_frame.trip_distance < 23)]\n",
        "    new_frame = new_frame[(new_frame.Speed <= 65) & (new_frame.Speed >= 0)]\n",
        "    new_frame = new_frame[(new_frame.total_amount <= 65) & (new_frame.total_amount >= 0)]\n",
        "\n",
        "    print(\"Total outliers removed\", a - new_frame.shape[0])\n",
        "    print(\"---\")\n",
        "  \n",
        "    return new_frame\n",
        "  \n"
      ],
      "execution_count": 0,
      "outputs": []
    },
    {
      "cell_type": "markdown",
      "metadata": {
        "id": "jHiLi7B0DS3U",
        "colab_type": "text"
      },
      "source": [
        "## 2.5: Time binning\n",
        "\n",
        "after making clusters next step is to make 10 mins time bins. "
      ]
    },
    {
      "cell_type": "code",
      "metadata": {
        "id": "zXk51CChDQ5W",
        "colab_type": "code",
        "colab": {}
      },
      "source": [
        "def add_pickup_bins(frame,month,year):\n",
        "  unix_pickup_times = [i for i in frame['pickup_times'].values]\n",
        "  #jan 2015,feb 2015, mar 2015, jan 2016,feb 2016 ,mar 2016\n",
        "  unix_times = [[1420070400,1422748800,1425168000,1427846400,1430438400,1433116800],\\\n",
        "                    [1451606400,1454284800,1456790400,1459468800,1462060800,1464739200]]\n",
        "  \n",
        "  start_pickup_unix = unix_times[year-2015][month-1]\n",
        "  ten_min_bin = [(int((i-start_pickup_unix)/600)+33) for i in unix_pickup_times]\n",
        "  frame['pickup_bins'] = np.array(ten_min_bin)\n",
        "  \n",
        "  return frame"
      ],
      "execution_count": 0,
      "outputs": []
    },
    {
      "cell_type": "code",
      "metadata": {
        "id": "7sQ6QQVMlUIb",
        "colab_type": "code",
        "colab": {}
      },
      "source": [
        "new_frame['pickup_cluster'] = kmeans.predict(new_frame[['pickup_latitude', 'pickup_longitude']])"
      ],
      "execution_count": 0,
      "outputs": []
    },
    {
      "cell_type": "code",
      "metadata": {
        "id": "dinlXND9rR6-",
        "colab_type": "code",
        "colab": {}
      },
      "source": [
        "jan_2015_frame = add_pickup_bins(new_frame, 1, 2015)"
      ],
      "execution_count": 0,
      "outputs": []
    },
    {
      "cell_type": "code",
      "metadata": {
        "id": "aLIk7mkkr_h7",
        "colab_type": "code",
        "colab": {}
      },
      "source": [
        "jan_2015_groupby = jan_2015_frame[['pickup_clusters','pickup_bins','trip_distance']].groupby(['pickup_clusters','pickup_bins']).count()"
      ],
      "execution_count": 0,
      "outputs": []
    },
    {
      "cell_type": "code",
      "metadata": {
        "id": "RySArHTPsewA",
        "colab_type": "code",
        "colab": {
          "base_uri": "https://localhost:8080/",
          "height": 235
        },
        "outputId": "283f7ccb-459b-4a76-c05c-131b741b00ff"
      },
      "source": [
        "jan_2015_groupby.head()"
      ],
      "execution_count": 79,
      "outputs": [
        {
          "output_type": "execute_result",
          "data": {
            "text/html": [
              "<div>\n",
              "<style scoped>\n",
              "    .dataframe tbody tr th:only-of-type {\n",
              "        vertical-align: middle;\n",
              "    }\n",
              "\n",
              "    .dataframe tbody tr th {\n",
              "        vertical-align: top;\n",
              "    }\n",
              "\n",
              "    .dataframe thead th {\n",
              "        text-align: right;\n",
              "    }\n",
              "</style>\n",
              "<table border=\"1\" class=\"dataframe\">\n",
              "  <thead>\n",
              "    <tr style=\"text-align: right;\">\n",
              "      <th></th>\n",
              "      <th></th>\n",
              "      <th>trip_distance</th>\n",
              "    </tr>\n",
              "    <tr>\n",
              "      <th>pickup_clusters</th>\n",
              "      <th>pickup_bins</th>\n",
              "      <th></th>\n",
              "    </tr>\n",
              "  </thead>\n",
              "  <tbody>\n",
              "    <tr>\n",
              "      <th rowspan=\"5\" valign=\"top\">0</th>\n",
              "      <th>33</th>\n",
              "      <td>104</td>\n",
              "    </tr>\n",
              "    <tr>\n",
              "      <th>34</th>\n",
              "      <td>200</td>\n",
              "    </tr>\n",
              "    <tr>\n",
              "      <th>35</th>\n",
              "      <td>208</td>\n",
              "    </tr>\n",
              "    <tr>\n",
              "      <th>36</th>\n",
              "      <td>141</td>\n",
              "    </tr>\n",
              "    <tr>\n",
              "      <th>37</th>\n",
              "      <td>155</td>\n",
              "    </tr>\n",
              "  </tbody>\n",
              "</table>\n",
              "</div>"
            ],
            "text/plain": [
              "                             trip_distance\n",
              "pickup_clusters pickup_bins               \n",
              "0               33                     104\n",
              "                34                     200\n",
              "                35                     208\n",
              "                36                     141\n",
              "                37                     155"
            ]
          },
          "metadata": {
            "tags": []
          },
          "execution_count": 79
        }
      ]
    },
    {
      "cell_type": "markdown",
      "metadata": {
        "id": "c5grNPO3zOMP",
        "colab_type": "text"
      },
      "source": [
        "# 3: Applying all steps on remaining Data\n",
        "\n",
        "till now we have cleaned our one month data and applied 2 main pre processising work that is making clusters and time bins. now we will perform above activities on our remaining data sets of year 2016. for this we will make a function below."
      ]
    },
    {
      "cell_type": "code",
      "metadata": {
        "id": "RT7sxzU_tjsQ",
        "colab_type": "code",
        "colab": {}
      },
      "source": [
        "def datapreparation(month, kmeans, month_no, year_no):\n",
        "  print('Return with trip times.')\n",
        "  dframe_with_duration = return_with_times(month)\n",
        "  \n",
        "  print(\"Remove outliers\")\n",
        "  new_frame1 = remove_outliers(dframe_with_duration)\n",
        "  \n",
        "  print(\"Clustering\")\n",
        "  new_frame1['pickup_cluster'] = kmeans.predict(new_frame1[['pickup_latitude','pickup_longitude']])\n",
        "  \n",
        "  print('Final groupby')\n",
        "  final_updated_frame = add_pickup_bins(new_frame1,month_no,year_no)\n",
        "  final_groupby_frame = final_updated_frame[['pickup_cluster','pickup_bins','trip_distance']].groupby(['pickup_cluster','pickup_bins']).count()\n",
        "  \n",
        "  return final_updated_frame, final_groupby_frame"
      ],
      "execution_count": 0,
      "outputs": []
    },
    {
      "cell_type": "code",
      "metadata": {
        "id": "Rt-7mSi_1snO",
        "colab_type": "code",
        "colab": {
          "base_uri": "https://localhost:8080/",
          "height": 34
        },
        "outputId": "25d403fd-e5f0-4efe-da55-41162c02ccfc"
      },
      "source": [
        "link = 'https://drive.google.com/open?id=19pxY-1nlolOS0bQLDRYRjAW5Vuanm-CD'\n",
        "fluff, id = link.split('=')\n",
        "print (id)\n",
        "downloaded = drive.CreateFile({'id':id}) \n",
        "downloaded.GetContentFile('Copy of yellow_tripdata_2016-01.csv')  \n",
        "#month = dd.read_csv('Copy of yellow_tripdata_2015-01.csv')\n",
        "# Dataset is now stored in a dask Dataframe\n",
        "month_jan_2016 = dd.read_csv('Copy of yellow_tripdata_2016-01.csv')"
      ],
      "execution_count": 81,
      "outputs": [
        {
          "output_type": "stream",
          "text": [
            "19pxY-1nlolOS0bQLDRYRjAW5Vuanm-CD\n"
          ],
          "name": "stdout"
        }
      ]
    },
    {
      "cell_type": "code",
      "metadata": {
        "id": "pMm7Ng08iIF_",
        "colab_type": "code",
        "colab": {
          "base_uri": "https://localhost:8080/",
          "height": 34
        },
        "outputId": "63b08fe9-7e12-4f0b-b9f7-96a28ef48ece"
      },
      "source": [
        "link = 'https://drive.google.com/open?id=19pxY-1nlolOS0bQLDRYRjAW5Vuanm-CD'\n",
        "fluff, id = link.split('=')\n",
        "print (id)\n",
        "downloaded = drive.CreateFile({'id':id}) \n",
        "downloaded.GetContentFile('Copy of yellow_tripdata_2016-02.csv')  \n",
        "#month = dd.read_csv('Copy of yellow_tripdata_2015-01.csv')\n",
        "# Dataset is now stored in a dask Dataframe\n",
        "month_feb_2016 = dd.read_csv('Copy of yellow_tripdata_2016-02.csv')"
      ],
      "execution_count": 82,
      "outputs": [
        {
          "output_type": "stream",
          "text": [
            "19pxY-1nlolOS0bQLDRYRjAW5Vuanm-CD\n"
          ],
          "name": "stdout"
        }
      ]
    },
    {
      "cell_type": "code",
      "metadata": {
        "id": "wLNVAr7x5e_p",
        "colab_type": "code",
        "colab": {
          "base_uri": "https://localhost:8080/",
          "height": 34
        },
        "outputId": "31aaf84a-61cc-46f9-c3bf-332a1f54e0d7"
      },
      "source": [
        "link = 'https://drive.google.com/open?id=19pxY-1nlolOS0bQLDRYRjAW5Vuanm-CD'\n",
        "fluff, id = link.split('=')\n",
        "print (id)\n",
        "downloaded = drive.CreateFile({'id':id}) \n",
        "downloaded.GetContentFile('Copy of yellow_tripdata_2016-03.csv')  \n",
        "#month = dd.read_csv('Copy of yellow_tripdata_2015-01.csv')\n",
        "# Dataset is now stored in a dask Dataframe\n",
        "month_march_2016 = dd.read_csv('Copy of yellow_tripdata_2016-03.csv')"
      ],
      "execution_count": 83,
      "outputs": [
        {
          "output_type": "stream",
          "text": [
            "19pxY-1nlolOS0bQLDRYRjAW5Vuanm-CD\n"
          ],
          "name": "stdout"
        }
      ]
    },
    {
      "cell_type": "code",
      "metadata": {
        "id": "kucpeiri123g",
        "colab_type": "code",
        "colab": {
          "base_uri": "https://localhost:8080/",
          "height": 221
        },
        "outputId": "b3082e50-efb8-4613-e2bd-8f2f0bdf2601"
      },
      "source": [
        "jan_2016_frame, jan_2016_groupby = datapreparation(month_jan_2016, kmeans, 1, 2016)"
      ],
      "execution_count": 84,
      "outputs": [
        {
          "output_type": "stream",
          "text": [
            "Return with trip times.\n",
            "Remove outliers\n",
            "Number of pickup records =  12748986\n",
            "number of outlier coordinates lying outside NY boundries =  293919\n",
            "number of outlier from trip times analysis =  23889\n",
            "number of outlier from trip distance analysis =  0\n",
            "number of outlier from trip speed analysis =  24473\n",
            "number of outliers from fare analysis =  5275\n",
            "Total outliers removed 485773\n",
            "---\n",
            "Clustering\n",
            "Final groupby\n"
          ],
          "name": "stdout"
        }
      ]
    },
    {
      "cell_type": "code",
      "metadata": {
        "id": "uQFoZq_rt6DA",
        "colab_type": "code",
        "colab": {
          "base_uri": "https://localhost:8080/",
          "height": 425
        },
        "outputId": "eac64a23-068f-4475-90e8-3550abcb15cf"
      },
      "source": [
        "feb_2016_frame, feb_2016_groupby = datapreparation(month_feb_2016, kmeans, 2, 2016)\n",
        "march_2016_frame, march_2016_groupby = datapreparation(month_march_2016, kmeans, 3, 2016)"
      ],
      "execution_count": 85,
      "outputs": [
        {
          "output_type": "stream",
          "text": [
            "Return with trip times.\n",
            "Remove outliers\n",
            "Number of pickup records =  12748986\n",
            "number of outlier coordinates lying outside NY boundries =  293919\n",
            "number of outlier from trip times analysis =  23889\n",
            "number of outlier from trip distance analysis =  0\n",
            "number of outlier from trip speed analysis =  24473\n",
            "number of outliers from fare analysis =  5275\n",
            "Total outliers removed 485773\n",
            "---\n",
            "Clustering\n",
            "Final groupby\n",
            "Return with trip times.\n",
            "Remove outliers\n",
            "Number of pickup records =  12748986\n",
            "number of outlier coordinates lying outside NY boundries =  293919\n",
            "number of outlier from trip times analysis =  23889\n",
            "number of outlier from trip distance analysis =  0\n",
            "number of outlier from trip speed analysis =  24473\n",
            "number of outliers from fare analysis =  5275\n",
            "Total outliers removed 485773\n",
            "---\n",
            "Clustering\n",
            "Final groupby\n"
          ],
          "name": "stdout"
        }
      ]
    },
    {
      "cell_type": "markdown",
      "metadata": {
        "id": "m5FoAvuGGQH3",
        "colab_type": "text"
      },
      "source": [
        "# 4: SMOOTHING\n",
        "\n"
      ]
    },
    {
      "cell_type": "code",
      "metadata": {
        "id": "72Cm02Pj9f6h",
        "colab_type": "code",
        "colab": {}
      },
      "source": [
        "# making unique bins where pickup values are present for each region\n",
        "\n",
        "def return_bins(frame):\n",
        "  values = []\n",
        "  for i in range(0, 40):\n",
        "    val = frame[frame['pickup_cluster'] == i]\n",
        "    lis = list(set(val['pickup_bins']))\n",
        "    lis.sort()\n",
        "    values.append(lis)\n",
        "  return values\n",
        "    \n",
        "    "
      ],
      "execution_count": 0,
      "outputs": []
    },
    {
      "cell_type": "code",
      "metadata": {
        "id": "1H3CTp-L_KEy",
        "colab_type": "code",
        "colab": {}
      },
      "source": [
        "jan_2015_uni = return_bins(jan_2015_frame)\n",
        "jan_2016_uni = return_bins(jan_2016_frame)\n",
        "\n",
        "feb_2016_uni = return_bins(feb_2016_frame)\n",
        "march_2016_uni = return_bins(march_2016_frame)"
      ],
      "execution_count": 0,
      "outputs": []
    },
    {
      "cell_type": "code",
      "metadata": {
        "id": "e-MtwdCgU8jj",
        "colab_type": "code",
        "colab": {
          "base_uri": "https://localhost:8080/",
          "height": 85
        },
        "outputId": "cc5cf0ce-d123-4b6d-f87b-77dd6cfcddbb"
      },
      "source": [
        "# number of 10 min indices for jan 2015, jan 2016, fen 2016 and march 2016 are:\n",
        "\n",
        "print(\"jan_2015_indices =\", 24*31*60/10)\n",
        "print(\"jan_2016_indices =\" ,24*31*60/10)\n",
        "print(\"feb_2016_indices =\" ,24*29*60/10)\n",
        "print(\"jan_2015_indices =\", 24*30*60/10)"
      ],
      "execution_count": 88,
      "outputs": [
        {
          "output_type": "stream",
          "text": [
            "jan_2015_indices = 4464.0\n",
            "jan_2016_indices = 4464.0\n",
            "feb_2016_indices = 4176.0\n",
            "jan_2015_indices = 4320.0\n"
          ],
          "name": "stdout"
        }
      ]
    },
    {
      "cell_type": "markdown",
      "metadata": {
        "id": "rlyf11_QC6yD",
        "colab_type": "text"
      },
      "source": [
        "since maximum number of indices are 4464 so we will take this number as base"
      ]
    },
    {
      "cell_type": "code",
      "metadata": {
        "id": "dOgHEukD_d3i",
        "colab_type": "code",
        "colab": {
          "base_uri": "https://localhost:8080/",
          "height": 697
        },
        "outputId": "a2edae58-bcea-4c33-c799-77aa1f8085e5"
      },
      "source": [
        "#cheking 0 pickups for each cluster for jan 2015\n",
        "for i in range(40):\n",
        "  print(\"for \",i,\" cluster number of bins with 0 pickups are: \",4464-len(jan_2015_uni[i]))\n"
      ],
      "execution_count": 89,
      "outputs": [
        {
          "output_type": "stream",
          "text": [
            "for  0  cluster number of bins with 0 pickups are:  40\n",
            "for  1  cluster number of bins with 0 pickups are:  1985\n",
            "for  2  cluster number of bins with 0 pickups are:  29\n",
            "for  3  cluster number of bins with 0 pickups are:  354\n",
            "for  4  cluster number of bins with 0 pickups are:  37\n",
            "for  5  cluster number of bins with 0 pickups are:  153\n",
            "for  6  cluster number of bins with 0 pickups are:  34\n",
            "for  7  cluster number of bins with 0 pickups are:  34\n",
            "for  8  cluster number of bins with 0 pickups are:  117\n",
            "for  9  cluster number of bins with 0 pickups are:  40\n",
            "for  10  cluster number of bins with 0 pickups are:  25\n",
            "for  11  cluster number of bins with 0 pickups are:  44\n",
            "for  12  cluster number of bins with 0 pickups are:  42\n",
            "for  13  cluster number of bins with 0 pickups are:  28\n",
            "for  14  cluster number of bins with 0 pickups are:  26\n",
            "for  15  cluster number of bins with 0 pickups are:  31\n",
            "for  16  cluster number of bins with 0 pickups are:  40\n",
            "for  17  cluster number of bins with 0 pickups are:  58\n",
            "for  18  cluster number of bins with 0 pickups are:  1190\n",
            "for  19  cluster number of bins with 0 pickups are:  1357\n",
            "for  20  cluster number of bins with 0 pickups are:  53\n",
            "for  21  cluster number of bins with 0 pickups are:  29\n",
            "for  22  cluster number of bins with 0 pickups are:  29\n",
            "for  23  cluster number of bins with 0 pickups are:  163\n",
            "for  24  cluster number of bins with 0 pickups are:  35\n",
            "for  25  cluster number of bins with 0 pickups are:  41\n",
            "for  26  cluster number of bins with 0 pickups are:  31\n",
            "for  27  cluster number of bins with 0 pickups are:  214\n",
            "for  28  cluster number of bins with 0 pickups are:  36\n",
            "for  29  cluster number of bins with 0 pickups are:  41\n",
            "for  30  cluster number of bins with 0 pickups are:  1180\n",
            "for  31  cluster number of bins with 0 pickups are:  42\n",
            "for  32  cluster number of bins with 0 pickups are:  44\n",
            "for  33  cluster number of bins with 0 pickups are:  43\n",
            "for  34  cluster number of bins with 0 pickups are:  39\n",
            "for  35  cluster number of bins with 0 pickups are:  42\n",
            "for  36  cluster number of bins with 0 pickups are:  36\n",
            "for  37  cluster number of bins with 0 pickups are:  321\n",
            "for  38  cluster number of bins with 0 pickups are:  36\n",
            "for  39  cluster number of bins with 0 pickups are:  43\n"
          ],
          "name": "stdout"
        }
      ]
    },
    {
      "cell_type": "markdown",
      "metadata": {
        "id": "wxdhqxuuEICg",
        "colab_type": "text"
      },
      "source": [
        "from above we can see that there are many bins with no pickups in each cluster, we need to fill these values. for this we can perform 2 operations:\n",
        "1) fill empty values with 0\n",
        "2) fill empty values with missing values"
      ]
    },
    {
      "cell_type": "code",
      "metadata": {
        "id": "OdwZwTGVI4bU",
        "colab_type": "code",
        "colab": {}
      },
      "source": [
        ""
      ],
      "execution_count": 0,
      "outputs": []
    }
  ]
}